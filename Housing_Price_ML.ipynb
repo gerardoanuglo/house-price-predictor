{
 "cells": [
  {
   "cell_type": "markdown",
   "metadata": {},
   "source": [
    "# House Prices Predictions"
   ]
  },
  {
   "cell_type": "markdown",
   "metadata": {},
   "source": [
    "## Plan of action\n",
    "1. Explore Dataset\n",
    "    1. check length of rows/columns for each dataset\n",
    "    2. check data types\n",
    "    3. check for null values\n",
    "    4. change column names if necessary\n",
    "2. Plan project road map\n",
    "    1. determine if I should use Supervised or Unsupervised ML or both?\n",
    "    2. determine which type of ML models to use\n",
    "    3. determine x_training data, x_test data, y_train_data y_test data\n",
    "3. Clean data\n",
    "    1. remove any null values\n",
    "    2. remove any unneccessary columns\n",
    "    3. In necessary features, bin rare values into \"other\" bin\n",
    "    4. remove any duplicate ID's\n",
    "    5. change any data types if necessary\n",
    "4. Preprocess data\n",
    "    1. convert categorical data to numerical using OHE\n",
    "    2. scale data using standarscaler\n",
    "    4. Create RandomForest model \n",
    "\n"
   ]
  },
  {
   "cell_type": "code",
   "execution_count": 10,
   "metadata": {},
   "outputs": [],
   "source": [
    "#import dependencies\n",
    "import pandas as pd\n",
    "import numpy as np\n",
    "\n",
    "from matplotlib import pyplot as plt\n",
    "from sklearn.model_selection import train_test_split\n",
    "from sklearn.preprocessing import StandardScaler\n",
    "from sklearn.decomposition import PCA\n",
    "\n",
    "from sklearn.ensemble import RandomForestClassifier\n",
    "from sklearn.tree import DecisionTreeRegressor\n",
    "from sklearn.metrics import classification_report\n",
    "from sklearn.ensemble import RandomForestRegressor\n",
    "\n",
    "import warnings\n",
    "warnings.filterwarnings('ignore')\n"
   ]
  },
  {
   "cell_type": "code",
   "execution_count": 11,
   "metadata": {},
   "outputs": [],
   "source": [
    "#load data\n",
    "test_file = \"/Users/Jerry/Documents/house-price-predictor/resources/test.csv\"\n",
    "train_file = \"/Users/Jerry/Documents/house-price-predictor/resources/train.csv\"\n",
    "sales_file = \"/Users/Jerry/Documents/house-price-predictor/resources/sample_submission.csv\"\n",
    "\n",
    "test_df = pd.read_csv(test_file)\n",
    "train_df = pd.read_csv(train_file)\n",
    "sales_df = pd.read_csv(sales_file)"
   ]
  },
  {
   "cell_type": "code",
   "execution_count": 12,
   "metadata": {},
   "outputs": [
    {
     "name": "stdout",
     "output_type": "stream",
     "text": [
      "(1459, 80)\n",
      "(1460, 81)\n",
      "(1459, 2)\n"
     ]
    }
   ],
   "source": [
    "#check the shape of each dataframe\n",
    "print(test_df.shape)\n",
    "print(train_df.shape)\n",
    "print(sales_df.shape)"
   ]
  },
  {
   "cell_type": "markdown",
   "metadata": {},
   "source": [
    "## Clean Data"
   ]
  },
  {
   "cell_type": "markdown",
   "metadata": {},
   "source": [
    "### Merging Dataframes into One Complete Dateframe"
   ]
  },
  {
   "cell_type": "code",
   "execution_count": 13,
   "metadata": {},
   "outputs": [
    {
     "data": {
      "text/html": [
       "<div>\n",
       "<style scoped>\n",
       "    .dataframe tbody tr th:only-of-type {\n",
       "        vertical-align: middle;\n",
       "    }\n",
       "\n",
       "    .dataframe tbody tr th {\n",
       "        vertical-align: top;\n",
       "    }\n",
       "\n",
       "    .dataframe thead th {\n",
       "        text-align: right;\n",
       "    }\n",
       "</style>\n",
       "<table border=\"1\" class=\"dataframe\">\n",
       "  <thead>\n",
       "    <tr style=\"text-align: right;\">\n",
       "      <th></th>\n",
       "      <th>Id</th>\n",
       "      <th>MSSubClass</th>\n",
       "      <th>MSZoning</th>\n",
       "      <th>LotFrontage</th>\n",
       "      <th>LotArea</th>\n",
       "      <th>Street</th>\n",
       "      <th>Alley</th>\n",
       "      <th>LotShape</th>\n",
       "      <th>LandContour</th>\n",
       "      <th>Utilities</th>\n",
       "      <th>...</th>\n",
       "      <th>PoolArea</th>\n",
       "      <th>PoolQC</th>\n",
       "      <th>Fence</th>\n",
       "      <th>MiscFeature</th>\n",
       "      <th>MiscVal</th>\n",
       "      <th>MoSold</th>\n",
       "      <th>YrSold</th>\n",
       "      <th>SaleType</th>\n",
       "      <th>SaleCondition</th>\n",
       "      <th>SalePrice</th>\n",
       "    </tr>\n",
       "  </thead>\n",
       "  <tbody>\n",
       "    <tr>\n",
       "      <th>0</th>\n",
       "      <td>1461</td>\n",
       "      <td>20</td>\n",
       "      <td>RH</td>\n",
       "      <td>80.0</td>\n",
       "      <td>11622</td>\n",
       "      <td>Pave</td>\n",
       "      <td>NaN</td>\n",
       "      <td>Reg</td>\n",
       "      <td>Lvl</td>\n",
       "      <td>AllPub</td>\n",
       "      <td>...</td>\n",
       "      <td>0</td>\n",
       "      <td>NaN</td>\n",
       "      <td>MnPrv</td>\n",
       "      <td>NaN</td>\n",
       "      <td>0</td>\n",
       "      <td>6</td>\n",
       "      <td>2010</td>\n",
       "      <td>WD</td>\n",
       "      <td>Normal</td>\n",
       "      <td>169277.052498</td>\n",
       "    </tr>\n",
       "    <tr>\n",
       "      <th>1</th>\n",
       "      <td>1462</td>\n",
       "      <td>20</td>\n",
       "      <td>RL</td>\n",
       "      <td>81.0</td>\n",
       "      <td>14267</td>\n",
       "      <td>Pave</td>\n",
       "      <td>NaN</td>\n",
       "      <td>IR1</td>\n",
       "      <td>Lvl</td>\n",
       "      <td>AllPub</td>\n",
       "      <td>...</td>\n",
       "      <td>0</td>\n",
       "      <td>NaN</td>\n",
       "      <td>NaN</td>\n",
       "      <td>Gar2</td>\n",
       "      <td>12500</td>\n",
       "      <td>6</td>\n",
       "      <td>2010</td>\n",
       "      <td>WD</td>\n",
       "      <td>Normal</td>\n",
       "      <td>187758.393989</td>\n",
       "    </tr>\n",
       "    <tr>\n",
       "      <th>2</th>\n",
       "      <td>1463</td>\n",
       "      <td>60</td>\n",
       "      <td>RL</td>\n",
       "      <td>74.0</td>\n",
       "      <td>13830</td>\n",
       "      <td>Pave</td>\n",
       "      <td>NaN</td>\n",
       "      <td>IR1</td>\n",
       "      <td>Lvl</td>\n",
       "      <td>AllPub</td>\n",
       "      <td>...</td>\n",
       "      <td>0</td>\n",
       "      <td>NaN</td>\n",
       "      <td>MnPrv</td>\n",
       "      <td>NaN</td>\n",
       "      <td>0</td>\n",
       "      <td>3</td>\n",
       "      <td>2010</td>\n",
       "      <td>WD</td>\n",
       "      <td>Normal</td>\n",
       "      <td>183583.683570</td>\n",
       "    </tr>\n",
       "    <tr>\n",
       "      <th>3</th>\n",
       "      <td>1464</td>\n",
       "      <td>60</td>\n",
       "      <td>RL</td>\n",
       "      <td>78.0</td>\n",
       "      <td>9978</td>\n",
       "      <td>Pave</td>\n",
       "      <td>NaN</td>\n",
       "      <td>IR1</td>\n",
       "      <td>Lvl</td>\n",
       "      <td>AllPub</td>\n",
       "      <td>...</td>\n",
       "      <td>0</td>\n",
       "      <td>NaN</td>\n",
       "      <td>NaN</td>\n",
       "      <td>NaN</td>\n",
       "      <td>0</td>\n",
       "      <td>6</td>\n",
       "      <td>2010</td>\n",
       "      <td>WD</td>\n",
       "      <td>Normal</td>\n",
       "      <td>179317.477511</td>\n",
       "    </tr>\n",
       "    <tr>\n",
       "      <th>4</th>\n",
       "      <td>1465</td>\n",
       "      <td>120</td>\n",
       "      <td>RL</td>\n",
       "      <td>43.0</td>\n",
       "      <td>5005</td>\n",
       "      <td>Pave</td>\n",
       "      <td>NaN</td>\n",
       "      <td>IR1</td>\n",
       "      <td>HLS</td>\n",
       "      <td>AllPub</td>\n",
       "      <td>...</td>\n",
       "      <td>0</td>\n",
       "      <td>NaN</td>\n",
       "      <td>NaN</td>\n",
       "      <td>NaN</td>\n",
       "      <td>0</td>\n",
       "      <td>1</td>\n",
       "      <td>2010</td>\n",
       "      <td>WD</td>\n",
       "      <td>Normal</td>\n",
       "      <td>150730.079977</td>\n",
       "    </tr>\n",
       "  </tbody>\n",
       "</table>\n",
       "<p>5 rows × 81 columns</p>\n",
       "</div>"
      ],
      "text/plain": [
       "     Id  MSSubClass MSZoning  LotFrontage  LotArea Street Alley LotShape  \\\n",
       "0  1461          20       RH         80.0    11622   Pave   NaN      Reg   \n",
       "1  1462          20       RL         81.0    14267   Pave   NaN      IR1   \n",
       "2  1463          60       RL         74.0    13830   Pave   NaN      IR1   \n",
       "3  1464          60       RL         78.0     9978   Pave   NaN      IR1   \n",
       "4  1465         120       RL         43.0     5005   Pave   NaN      IR1   \n",
       "\n",
       "  LandContour Utilities  ... PoolArea PoolQC  Fence MiscFeature MiscVal  \\\n",
       "0         Lvl    AllPub  ...        0    NaN  MnPrv         NaN       0   \n",
       "1         Lvl    AllPub  ...        0    NaN    NaN        Gar2   12500   \n",
       "2         Lvl    AllPub  ...        0    NaN  MnPrv         NaN       0   \n",
       "3         Lvl    AllPub  ...        0    NaN    NaN         NaN       0   \n",
       "4         HLS    AllPub  ...        0    NaN    NaN         NaN       0   \n",
       "\n",
       "  MoSold YrSold  SaleType  SaleCondition      SalePrice  \n",
       "0      6   2010        WD         Normal  169277.052498  \n",
       "1      6   2010        WD         Normal  187758.393989  \n",
       "2      3   2010        WD         Normal  183583.683570  \n",
       "3      6   2010        WD         Normal  179317.477511  \n",
       "4      1   2010        WD         Normal  150730.079977  \n",
       "\n",
       "[5 rows x 81 columns]"
      ]
     },
     "execution_count": 13,
     "metadata": {},
     "output_type": "execute_result"
    }
   ],
   "source": [
    "#merge sales_df with the test_df. Having all the data in one dataframe will make it easier to preprocess.\n",
    "df = test_df.merge(sales_df, how= \"inner\", on= \"Id\")\n",
    "df.head()"
   ]
  },
  {
   "cell_type": "code",
   "execution_count": 14,
   "metadata": {},
   "outputs": [
    {
     "name": "stdout",
     "output_type": "stream",
     "text": [
      "(2919, 80)\n"
     ]
    },
    {
     "data": {
      "text/html": [
       "<div>\n",
       "<style scoped>\n",
       "    .dataframe tbody tr th:only-of-type {\n",
       "        vertical-align: middle;\n",
       "    }\n",
       "\n",
       "    .dataframe tbody tr th {\n",
       "        vertical-align: top;\n",
       "    }\n",
       "\n",
       "    .dataframe thead th {\n",
       "        text-align: right;\n",
       "    }\n",
       "</style>\n",
       "<table border=\"1\" class=\"dataframe\">\n",
       "  <thead>\n",
       "    <tr style=\"text-align: right;\">\n",
       "      <th></th>\n",
       "      <th>MSSubClass</th>\n",
       "      <th>MSZoning</th>\n",
       "      <th>LotFrontage</th>\n",
       "      <th>LotArea</th>\n",
       "      <th>Street</th>\n",
       "      <th>Alley</th>\n",
       "      <th>LotShape</th>\n",
       "      <th>LandContour</th>\n",
       "      <th>Utilities</th>\n",
       "      <th>LotConfig</th>\n",
       "      <th>...</th>\n",
       "      <th>PoolArea</th>\n",
       "      <th>PoolQC</th>\n",
       "      <th>Fence</th>\n",
       "      <th>MiscFeature</th>\n",
       "      <th>MiscVal</th>\n",
       "      <th>MoSold</th>\n",
       "      <th>YrSold</th>\n",
       "      <th>SaleType</th>\n",
       "      <th>SaleCondition</th>\n",
       "      <th>SalePrice</th>\n",
       "    </tr>\n",
       "    <tr>\n",
       "      <th>Id</th>\n",
       "      <th></th>\n",
       "      <th></th>\n",
       "      <th></th>\n",
       "      <th></th>\n",
       "      <th></th>\n",
       "      <th></th>\n",
       "      <th></th>\n",
       "      <th></th>\n",
       "      <th></th>\n",
       "      <th></th>\n",
       "      <th></th>\n",
       "      <th></th>\n",
       "      <th></th>\n",
       "      <th></th>\n",
       "      <th></th>\n",
       "      <th></th>\n",
       "      <th></th>\n",
       "      <th></th>\n",
       "      <th></th>\n",
       "      <th></th>\n",
       "      <th></th>\n",
       "    </tr>\n",
       "  </thead>\n",
       "  <tbody>\n",
       "    <tr>\n",
       "      <th>1</th>\n",
       "      <td>60</td>\n",
       "      <td>RL</td>\n",
       "      <td>65.0</td>\n",
       "      <td>8450</td>\n",
       "      <td>Pave</td>\n",
       "      <td>NaN</td>\n",
       "      <td>Reg</td>\n",
       "      <td>Lvl</td>\n",
       "      <td>AllPub</td>\n",
       "      <td>Inside</td>\n",
       "      <td>...</td>\n",
       "      <td>0</td>\n",
       "      <td>NaN</td>\n",
       "      <td>NaN</td>\n",
       "      <td>NaN</td>\n",
       "      <td>0</td>\n",
       "      <td>2</td>\n",
       "      <td>2008</td>\n",
       "      <td>WD</td>\n",
       "      <td>Normal</td>\n",
       "      <td>208500.0</td>\n",
       "    </tr>\n",
       "    <tr>\n",
       "      <th>2</th>\n",
       "      <td>20</td>\n",
       "      <td>RL</td>\n",
       "      <td>80.0</td>\n",
       "      <td>9600</td>\n",
       "      <td>Pave</td>\n",
       "      <td>NaN</td>\n",
       "      <td>Reg</td>\n",
       "      <td>Lvl</td>\n",
       "      <td>AllPub</td>\n",
       "      <td>FR2</td>\n",
       "      <td>...</td>\n",
       "      <td>0</td>\n",
       "      <td>NaN</td>\n",
       "      <td>NaN</td>\n",
       "      <td>NaN</td>\n",
       "      <td>0</td>\n",
       "      <td>5</td>\n",
       "      <td>2007</td>\n",
       "      <td>WD</td>\n",
       "      <td>Normal</td>\n",
       "      <td>181500.0</td>\n",
       "    </tr>\n",
       "    <tr>\n",
       "      <th>3</th>\n",
       "      <td>60</td>\n",
       "      <td>RL</td>\n",
       "      <td>68.0</td>\n",
       "      <td>11250</td>\n",
       "      <td>Pave</td>\n",
       "      <td>NaN</td>\n",
       "      <td>IR1</td>\n",
       "      <td>Lvl</td>\n",
       "      <td>AllPub</td>\n",
       "      <td>Inside</td>\n",
       "      <td>...</td>\n",
       "      <td>0</td>\n",
       "      <td>NaN</td>\n",
       "      <td>NaN</td>\n",
       "      <td>NaN</td>\n",
       "      <td>0</td>\n",
       "      <td>9</td>\n",
       "      <td>2008</td>\n",
       "      <td>WD</td>\n",
       "      <td>Normal</td>\n",
       "      <td>223500.0</td>\n",
       "    </tr>\n",
       "    <tr>\n",
       "      <th>4</th>\n",
       "      <td>70</td>\n",
       "      <td>RL</td>\n",
       "      <td>60.0</td>\n",
       "      <td>9550</td>\n",
       "      <td>Pave</td>\n",
       "      <td>NaN</td>\n",
       "      <td>IR1</td>\n",
       "      <td>Lvl</td>\n",
       "      <td>AllPub</td>\n",
       "      <td>Corner</td>\n",
       "      <td>...</td>\n",
       "      <td>0</td>\n",
       "      <td>NaN</td>\n",
       "      <td>NaN</td>\n",
       "      <td>NaN</td>\n",
       "      <td>0</td>\n",
       "      <td>2</td>\n",
       "      <td>2006</td>\n",
       "      <td>WD</td>\n",
       "      <td>Abnorml</td>\n",
       "      <td>140000.0</td>\n",
       "    </tr>\n",
       "    <tr>\n",
       "      <th>5</th>\n",
       "      <td>60</td>\n",
       "      <td>RL</td>\n",
       "      <td>84.0</td>\n",
       "      <td>14260</td>\n",
       "      <td>Pave</td>\n",
       "      <td>NaN</td>\n",
       "      <td>IR1</td>\n",
       "      <td>Lvl</td>\n",
       "      <td>AllPub</td>\n",
       "      <td>FR2</td>\n",
       "      <td>...</td>\n",
       "      <td>0</td>\n",
       "      <td>NaN</td>\n",
       "      <td>NaN</td>\n",
       "      <td>NaN</td>\n",
       "      <td>0</td>\n",
       "      <td>12</td>\n",
       "      <td>2008</td>\n",
       "      <td>WD</td>\n",
       "      <td>Normal</td>\n",
       "      <td>250000.0</td>\n",
       "    </tr>\n",
       "  </tbody>\n",
       "</table>\n",
       "<p>5 rows × 80 columns</p>\n",
       "</div>"
      ],
      "text/plain": [
       "    MSSubClass MSZoning  LotFrontage  LotArea Street Alley LotShape  \\\n",
       "Id                                                                    \n",
       "1           60       RL         65.0     8450   Pave   NaN      Reg   \n",
       "2           20       RL         80.0     9600   Pave   NaN      Reg   \n",
       "3           60       RL         68.0    11250   Pave   NaN      IR1   \n",
       "4           70       RL         60.0     9550   Pave   NaN      IR1   \n",
       "5           60       RL         84.0    14260   Pave   NaN      IR1   \n",
       "\n",
       "   LandContour Utilities LotConfig  ... PoolArea PoolQC Fence MiscFeature  \\\n",
       "Id                                  ...                                     \n",
       "1          Lvl    AllPub    Inside  ...        0    NaN   NaN         NaN   \n",
       "2          Lvl    AllPub       FR2  ...        0    NaN   NaN         NaN   \n",
       "3          Lvl    AllPub    Inside  ...        0    NaN   NaN         NaN   \n",
       "4          Lvl    AllPub    Corner  ...        0    NaN   NaN         NaN   \n",
       "5          Lvl    AllPub       FR2  ...        0    NaN   NaN         NaN   \n",
       "\n",
       "   MiscVal MoSold  YrSold  SaleType  SaleCondition  SalePrice  \n",
       "Id                                                             \n",
       "1        0      2    2008        WD         Normal   208500.0  \n",
       "2        0      5    2007        WD         Normal   181500.0  \n",
       "3        0      9    2008        WD         Normal   223500.0  \n",
       "4        0      2    2006        WD        Abnorml   140000.0  \n",
       "5        0     12    2008        WD         Normal   250000.0  \n",
       "\n",
       "[5 rows x 80 columns]"
      ]
     },
     "execution_count": 14,
     "metadata": {},
     "output_type": "execute_result"
    }
   ],
   "source": [
    "#create a main df with the consolidated test dataframe and the train dataframe\n",
    "main_df = pd.concat([train_df, df])\n",
    "\n",
    "main_df = main_df.set_index('Id')\n",
    "print(main_df.shape)\n",
    "main_df.head()"
   ]
  },
  {
   "cell_type": "markdown",
   "metadata": {},
   "source": [
    "### Dealing with Null Values"
   ]
  },
  {
   "cell_type": "code",
   "execution_count": 15,
   "metadata": {},
   "outputs": [
    {
     "name": "stdout",
     "output_type": "stream",
     "text": [
      "Column MSSubClass has 0 null values\n",
      "Column MSZoning has 4 null values\n",
      "Column LotFrontage has 486 null values\n",
      "Column LotArea has 0 null values\n",
      "Column Street has 0 null values\n",
      "Column Alley has 2721 null values\n",
      "Column LotShape has 0 null values\n",
      "Column LandContour has 0 null values\n",
      "Column Utilities has 2 null values\n",
      "Column LotConfig has 0 null values\n",
      "Column LandSlope has 0 null values\n",
      "Column Neighborhood has 0 null values\n",
      "Column Condition1 has 0 null values\n",
      "Column Condition2 has 0 null values\n",
      "Column BldgType has 0 null values\n",
      "Column HouseStyle has 0 null values\n",
      "Column OverallQual has 0 null values\n",
      "Column OverallCond has 0 null values\n",
      "Column YearBuilt has 0 null values\n",
      "Column YearRemodAdd has 0 null values\n",
      "Column RoofStyle has 0 null values\n",
      "Column RoofMatl has 0 null values\n",
      "Column Exterior1st has 1 null values\n",
      "Column Exterior2nd has 1 null values\n",
      "Column MasVnrType has 24 null values\n",
      "Column MasVnrArea has 23 null values\n",
      "Column ExterQual has 0 null values\n",
      "Column ExterCond has 0 null values\n",
      "Column Foundation has 0 null values\n",
      "Column BsmtQual has 81 null values\n",
      "Column BsmtCond has 82 null values\n",
      "Column BsmtExposure has 82 null values\n",
      "Column BsmtFinType1 has 79 null values\n",
      "Column BsmtFinSF1 has 1 null values\n",
      "Column BsmtFinType2 has 80 null values\n",
      "Column BsmtFinSF2 has 1 null values\n",
      "Column BsmtUnfSF has 1 null values\n",
      "Column TotalBsmtSF has 1 null values\n",
      "Column Heating has 0 null values\n",
      "Column HeatingQC has 0 null values\n",
      "Column CentralAir has 0 null values\n",
      "Column Electrical has 1 null values\n",
      "Column 1stFlrSF has 0 null values\n",
      "Column 2ndFlrSF has 0 null values\n",
      "Column LowQualFinSF has 0 null values\n",
      "Column GrLivArea has 0 null values\n",
      "Column BsmtFullBath has 2 null values\n",
      "Column BsmtHalfBath has 2 null values\n",
      "Column FullBath has 0 null values\n",
      "Column HalfBath has 0 null values\n",
      "Column BedroomAbvGr has 0 null values\n",
      "Column KitchenAbvGr has 0 null values\n",
      "Column KitchenQual has 1 null values\n",
      "Column TotRmsAbvGrd has 0 null values\n",
      "Column Functional has 2 null values\n",
      "Column Fireplaces has 0 null values\n",
      "Column FireplaceQu has 1420 null values\n",
      "Column GarageType has 157 null values\n",
      "Column GarageYrBlt has 159 null values\n",
      "Column GarageFinish has 159 null values\n",
      "Column GarageCars has 1 null values\n",
      "Column GarageArea has 1 null values\n",
      "Column GarageQual has 159 null values\n",
      "Column GarageCond has 159 null values\n",
      "Column PavedDrive has 0 null values\n",
      "Column WoodDeckSF has 0 null values\n",
      "Column OpenPorchSF has 0 null values\n",
      "Column EnclosedPorch has 0 null values\n",
      "Column 3SsnPorch has 0 null values\n",
      "Column ScreenPorch has 0 null values\n",
      "Column PoolArea has 0 null values\n",
      "Column PoolQC has 2909 null values\n",
      "Column Fence has 2348 null values\n",
      "Column MiscFeature has 2814 null values\n",
      "Column MiscVal has 0 null values\n",
      "Column MoSold has 0 null values\n",
      "Column YrSold has 0 null values\n",
      "Column SaleType has 1 null values\n",
      "Column SaleCondition has 0 null values\n",
      "Column SalePrice has 0 null values\n"
     ]
    }
   ],
   "source": [
    "#check the number of null values in each column\n",
    "for column in main_df.columns:\n",
    "    print(f\"Column {column} has {main_df[column].isnull().sum()} null values\")"
   ]
  },
  {
   "cell_type": "markdown",
   "metadata": {},
   "source": [
    "Many columns have null values. Each column will be handled uniquely based on number of null values within column and column description"
   ]
  },
  {
   "cell_type": "code",
   "execution_count": 16,
   "metadata": {},
   "outputs": [],
   "source": [
    "#Column LotFrontage has 486 null values / Description: Linear feet of street connected to property\n",
    "main_df[\"LotFrontage\"] = main_df[\"LotFrontage\"].replace(to_replace= np.nan, value=0)\n",
    "\n",
    "#Column Alley has 2721 null values / Type of alley access to property\n",
    "#column \"Alley\" has many NaN data points, based off \"data_description\" file, NaN means no alley.\n",
    "main_df[\"Alley\"] = main_df[\"Alley\"].replace(to_replace= np.nan, value=\"None\")"
   ]
  },
  {
   "cell_type": "code",
   "execution_count": 17,
   "metadata": {},
   "outputs": [],
   "source": [
    "#Column MasVnrType has 24 null values / Masonry veneer type\n",
    "#Column MasVnrArea has 23 null values / Masonry veneer area in square feet\n",
    "\n",
    "#For the one row with a MasVnr area and a null MasVnr Type, I will set the type to the most popular categorical value \"BrkFace\"\n",
    "main_df.at[2611, 'MasVnrType'] = \"BrkFace\"\n",
    "\n",
    "#convert nan to \"none\"\n",
    "main_df[\"MasVnrType\"] = main_df[\"MasVnrType\"].replace(to_replace= np.nan, value=\"None\")\n",
    "\n",
    "\n",
    "#Converted nan to zero, because these rows have no masonry veneer. \n",
    "main_df[\"MasVnrArea\"] = main_df[\"MasVnrArea\"].replace(to_replace= np.nan, value=0)\n"
   ]
  },
  {
   "cell_type": "code",
   "execution_count": 18,
   "metadata": {},
   "outputs": [],
   "source": [
    "#basement columns\n",
    "\n",
    "#Column BsmtQual has 81 null values / Evaluates the height of the basement\n",
    "#Column BsmtCond has 82 null values / Evaluates the general condition of the basement\n",
    "\n",
    "#columns have established NA data point for houses with no basements, so converting all nan values to NA\n",
    "main_df[\"BsmtQual\"] = main_df[\"BsmtQual\"].replace(to_replace= np.nan, value=\"NA\")\n",
    "main_df[\"BsmtCond\"] = main_df[\"BsmtCond\"].replace(to_replace= np.nan, value=\"NA\")\n",
    "\n",
    "#column BsmtExposure has 82 null values / Refers to walkout or garden level walls\n",
    "#Column BsmtFinType1 has 79 null values / Rating of basement finished area\n",
    "\n",
    "main_df[\"BsmtExposure\"] = main_df[\"BsmtExposure\"].replace(to_replace= np.nan, value=\"NA\")\n",
    "main_df[\"BsmtFinType1\"] = main_df[\"BsmtFinType1\"].replace(to_replace= np.nan, value=\"NA\")\n",
    "\n",
    "#Column BsmtFinType2 has 80 null values / Rating of basement finished area (if multiple types)\n",
    "main_df[\"BsmtFinType2\"] = main_df[\"BsmtFinType2\"].replace(to_replace= np.nan, value=\"NA\")"
   ]
  },
  {
   "cell_type": "code",
   "execution_count": 19,
   "metadata": {},
   "outputs": [],
   "source": [
    "#Garages\n",
    "\n",
    "#Column FireplaceQu has 1420 null values / Fireplace quality\n",
    "\n",
    "#Column GarageType has 157 null values / Garage location\n",
    "#Column GarageFinish has 159 null values /  Interior finish of the garage\n",
    "\n",
    "#Column GarageQual has 159 null values /\n",
    "#Column GarageCond has 159 null values /\n",
    "\n",
    "#converting np.nan with \"NA\" because these houses don't have a fire place\n",
    "main_df[\"FireplaceQu\"] = main_df[\"FireplaceQu\"].replace(to_replace= np.nan, value=\"NA\")\n",
    "\n",
    "#converting np.nan with \"NA\" because these house don't have a garage\n",
    "main_df[\"GarageType\"] = main_df[\"GarageType\"].replace(to_replace= np.nan, value=\"NA\")\n",
    "main_df[\"GarageFinish\"] = main_df[\"GarageFinish\"].replace(to_replace= np.nan, value=\"NA\")\n",
    "\n",
    "main_df[\"GarageQual\"] = main_df[\"GarageQual\"].replace(to_replace= np.nan, value=\"NA\")\n",
    "main_df[\"GarageCond\"] = main_df[\"GarageCond\"].replace(to_replace= np.nan, value=\"NA\")\n",
    "\n",
    "#Column GarageYrBlt has 159 null values / Year garage was built\n",
    "#Replaced null values with the mean Year within the dataset, which is 1978\n",
    "main_df[\"GarageYrBlt\"] = main_df[\"GarageYrBlt\"].replace(to_replace= np.nan, value=round(main_df[\"GarageYrBlt\"].mean()))\n"
   ]
  },
  {
   "cell_type": "code",
   "execution_count": 20,
   "metadata": {},
   "outputs": [],
   "source": [
    "#Column PoolQC has 2909 null values /  Pool quality\n",
    "#Column Fence has 2348 null values /  Fence quality\n",
    "#Column MiscFeature has 2814 null values / Miscellaneous feature not covered in other categories / Elevator, 2nd Garage, Tennis Court\n",
    "\n",
    "#converting np.nan with \"NA\" because house doesn't have a pool or fence\n",
    "main_df[\"PoolQC\"] = main_df[\"PoolQC\"].replace(to_replace= np.nan, value=\"NA\")\n",
    "main_df[\"Fence\"] = main_df[\"Fence\"].replace(to_replace= np.nan, value=\"NA\")\n",
    "\n",
    "main_df[\"MiscFeature\"] = main_df[\"MiscFeature\"].replace(to_replace= np.nan, value=\"NA\")"
   ]
  },
  {
   "cell_type": "code",
   "execution_count": 21,
   "metadata": {},
   "outputs": [
    {
     "name": "stdout",
     "output_type": "stream",
     "text": [
      "Column MSSubClass has 0 null values\n",
      "Column MSZoning has 4 null values\n",
      "Column LotFrontage has 0 null values\n",
      "Column LotArea has 0 null values\n",
      "Column Street has 0 null values\n",
      "Column Alley has 0 null values\n",
      "Column LotShape has 0 null values\n",
      "Column LandContour has 0 null values\n",
      "Column Utilities has 2 null values\n",
      "Column LotConfig has 0 null values\n",
      "Column LandSlope has 0 null values\n",
      "Column Neighborhood has 0 null values\n",
      "Column Condition1 has 0 null values\n",
      "Column Condition2 has 0 null values\n",
      "Column BldgType has 0 null values\n",
      "Column HouseStyle has 0 null values\n",
      "Column OverallQual has 0 null values\n",
      "Column OverallCond has 0 null values\n",
      "Column YearBuilt has 0 null values\n",
      "Column YearRemodAdd has 0 null values\n",
      "Column RoofStyle has 0 null values\n",
      "Column RoofMatl has 0 null values\n",
      "Column Exterior1st has 1 null values\n",
      "Column Exterior2nd has 1 null values\n",
      "Column MasVnrType has 0 null values\n",
      "Column MasVnrArea has 0 null values\n",
      "Column ExterQual has 0 null values\n",
      "Column ExterCond has 0 null values\n",
      "Column Foundation has 0 null values\n",
      "Column BsmtQual has 0 null values\n",
      "Column BsmtCond has 0 null values\n",
      "Column BsmtExposure has 0 null values\n",
      "Column BsmtFinType1 has 0 null values\n",
      "Column BsmtFinSF1 has 1 null values\n",
      "Column BsmtFinType2 has 0 null values\n",
      "Column BsmtFinSF2 has 1 null values\n",
      "Column BsmtUnfSF has 1 null values\n",
      "Column TotalBsmtSF has 1 null values\n",
      "Column Heating has 0 null values\n",
      "Column HeatingQC has 0 null values\n",
      "Column CentralAir has 0 null values\n",
      "Column Electrical has 1 null values\n",
      "Column 1stFlrSF has 0 null values\n",
      "Column 2ndFlrSF has 0 null values\n",
      "Column LowQualFinSF has 0 null values\n",
      "Column GrLivArea has 0 null values\n",
      "Column BsmtFullBath has 2 null values\n",
      "Column BsmtHalfBath has 2 null values\n",
      "Column FullBath has 0 null values\n",
      "Column HalfBath has 0 null values\n",
      "Column BedroomAbvGr has 0 null values\n",
      "Column KitchenAbvGr has 0 null values\n",
      "Column KitchenQual has 1 null values\n",
      "Column TotRmsAbvGrd has 0 null values\n",
      "Column Functional has 2 null values\n",
      "Column Fireplaces has 0 null values\n",
      "Column FireplaceQu has 0 null values\n",
      "Column GarageType has 0 null values\n",
      "Column GarageYrBlt has 0 null values\n",
      "Column GarageFinish has 0 null values\n",
      "Column GarageCars has 1 null values\n",
      "Column GarageArea has 1 null values\n",
      "Column GarageQual has 0 null values\n",
      "Column GarageCond has 0 null values\n",
      "Column PavedDrive has 0 null values\n",
      "Column WoodDeckSF has 0 null values\n",
      "Column OpenPorchSF has 0 null values\n",
      "Column EnclosedPorch has 0 null values\n",
      "Column 3SsnPorch has 0 null values\n",
      "Column ScreenPorch has 0 null values\n",
      "Column PoolArea has 0 null values\n",
      "Column PoolQC has 0 null values\n",
      "Column Fence has 0 null values\n",
      "Column MiscFeature has 0 null values\n",
      "Column MiscVal has 0 null values\n",
      "Column MoSold has 0 null values\n",
      "Column YrSold has 0 null values\n",
      "Column SaleType has 1 null values\n",
      "Column SaleCondition has 0 null values\n",
      "Column SalePrice has 0 null values\n"
     ]
    }
   ],
   "source": [
    "#Recheck if any columns have more than 5 null values\n",
    "for column in main_df.columns:\n",
    "    print(f\"Column {column} has {main_df[column].isnull().sum()} null values\")"
   ]
  },
  {
   "cell_type": "code",
   "execution_count": 22,
   "metadata": {},
   "outputs": [
    {
     "name": "stdout",
     "output_type": "stream",
     "text": [
      "(2906, 80)\n"
     ]
    },
    {
     "data": {
      "text/html": [
       "<div>\n",
       "<style scoped>\n",
       "    .dataframe tbody tr th:only-of-type {\n",
       "        vertical-align: middle;\n",
       "    }\n",
       "\n",
       "    .dataframe tbody tr th {\n",
       "        vertical-align: top;\n",
       "    }\n",
       "\n",
       "    .dataframe thead th {\n",
       "        text-align: right;\n",
       "    }\n",
       "</style>\n",
       "<table border=\"1\" class=\"dataframe\">\n",
       "  <thead>\n",
       "    <tr style=\"text-align: right;\">\n",
       "      <th></th>\n",
       "      <th>MSSubClass</th>\n",
       "      <th>MSZoning</th>\n",
       "      <th>LotFrontage</th>\n",
       "      <th>LotArea</th>\n",
       "      <th>Street</th>\n",
       "      <th>Alley</th>\n",
       "      <th>LotShape</th>\n",
       "      <th>LandContour</th>\n",
       "      <th>Utilities</th>\n",
       "      <th>LotConfig</th>\n",
       "      <th>...</th>\n",
       "      <th>PoolArea</th>\n",
       "      <th>PoolQC</th>\n",
       "      <th>Fence</th>\n",
       "      <th>MiscFeature</th>\n",
       "      <th>MiscVal</th>\n",
       "      <th>MoSold</th>\n",
       "      <th>YrSold</th>\n",
       "      <th>SaleType</th>\n",
       "      <th>SaleCondition</th>\n",
       "      <th>SalePrice</th>\n",
       "    </tr>\n",
       "    <tr>\n",
       "      <th>Id</th>\n",
       "      <th></th>\n",
       "      <th></th>\n",
       "      <th></th>\n",
       "      <th></th>\n",
       "      <th></th>\n",
       "      <th></th>\n",
       "      <th></th>\n",
       "      <th></th>\n",
       "      <th></th>\n",
       "      <th></th>\n",
       "      <th></th>\n",
       "      <th></th>\n",
       "      <th></th>\n",
       "      <th></th>\n",
       "      <th></th>\n",
       "      <th></th>\n",
       "      <th></th>\n",
       "      <th></th>\n",
       "      <th></th>\n",
       "      <th></th>\n",
       "      <th></th>\n",
       "    </tr>\n",
       "  </thead>\n",
       "  <tbody>\n",
       "    <tr>\n",
       "      <th>1</th>\n",
       "      <td>60</td>\n",
       "      <td>RL</td>\n",
       "      <td>65.0</td>\n",
       "      <td>8450</td>\n",
       "      <td>Pave</td>\n",
       "      <td>None</td>\n",
       "      <td>Reg</td>\n",
       "      <td>Lvl</td>\n",
       "      <td>AllPub</td>\n",
       "      <td>Inside</td>\n",
       "      <td>...</td>\n",
       "      <td>0</td>\n",
       "      <td>NA</td>\n",
       "      <td>NA</td>\n",
       "      <td>NA</td>\n",
       "      <td>0</td>\n",
       "      <td>2</td>\n",
       "      <td>2008</td>\n",
       "      <td>WD</td>\n",
       "      <td>Normal</td>\n",
       "      <td>208500.0</td>\n",
       "    </tr>\n",
       "    <tr>\n",
       "      <th>2</th>\n",
       "      <td>20</td>\n",
       "      <td>RL</td>\n",
       "      <td>80.0</td>\n",
       "      <td>9600</td>\n",
       "      <td>Pave</td>\n",
       "      <td>None</td>\n",
       "      <td>Reg</td>\n",
       "      <td>Lvl</td>\n",
       "      <td>AllPub</td>\n",
       "      <td>FR2</td>\n",
       "      <td>...</td>\n",
       "      <td>0</td>\n",
       "      <td>NA</td>\n",
       "      <td>NA</td>\n",
       "      <td>NA</td>\n",
       "      <td>0</td>\n",
       "      <td>5</td>\n",
       "      <td>2007</td>\n",
       "      <td>WD</td>\n",
       "      <td>Normal</td>\n",
       "      <td>181500.0</td>\n",
       "    </tr>\n",
       "    <tr>\n",
       "      <th>3</th>\n",
       "      <td>60</td>\n",
       "      <td>RL</td>\n",
       "      <td>68.0</td>\n",
       "      <td>11250</td>\n",
       "      <td>Pave</td>\n",
       "      <td>None</td>\n",
       "      <td>IR1</td>\n",
       "      <td>Lvl</td>\n",
       "      <td>AllPub</td>\n",
       "      <td>Inside</td>\n",
       "      <td>...</td>\n",
       "      <td>0</td>\n",
       "      <td>NA</td>\n",
       "      <td>NA</td>\n",
       "      <td>NA</td>\n",
       "      <td>0</td>\n",
       "      <td>9</td>\n",
       "      <td>2008</td>\n",
       "      <td>WD</td>\n",
       "      <td>Normal</td>\n",
       "      <td>223500.0</td>\n",
       "    </tr>\n",
       "    <tr>\n",
       "      <th>4</th>\n",
       "      <td>70</td>\n",
       "      <td>RL</td>\n",
       "      <td>60.0</td>\n",
       "      <td>9550</td>\n",
       "      <td>Pave</td>\n",
       "      <td>None</td>\n",
       "      <td>IR1</td>\n",
       "      <td>Lvl</td>\n",
       "      <td>AllPub</td>\n",
       "      <td>Corner</td>\n",
       "      <td>...</td>\n",
       "      <td>0</td>\n",
       "      <td>NA</td>\n",
       "      <td>NA</td>\n",
       "      <td>NA</td>\n",
       "      <td>0</td>\n",
       "      <td>2</td>\n",
       "      <td>2006</td>\n",
       "      <td>WD</td>\n",
       "      <td>Abnorml</td>\n",
       "      <td>140000.0</td>\n",
       "    </tr>\n",
       "    <tr>\n",
       "      <th>5</th>\n",
       "      <td>60</td>\n",
       "      <td>RL</td>\n",
       "      <td>84.0</td>\n",
       "      <td>14260</td>\n",
       "      <td>Pave</td>\n",
       "      <td>None</td>\n",
       "      <td>IR1</td>\n",
       "      <td>Lvl</td>\n",
       "      <td>AllPub</td>\n",
       "      <td>FR2</td>\n",
       "      <td>...</td>\n",
       "      <td>0</td>\n",
       "      <td>NA</td>\n",
       "      <td>NA</td>\n",
       "      <td>NA</td>\n",
       "      <td>0</td>\n",
       "      <td>12</td>\n",
       "      <td>2008</td>\n",
       "      <td>WD</td>\n",
       "      <td>Normal</td>\n",
       "      <td>250000.0</td>\n",
       "    </tr>\n",
       "  </tbody>\n",
       "</table>\n",
       "<p>5 rows × 80 columns</p>\n",
       "</div>"
      ],
      "text/plain": [
       "    MSSubClass MSZoning  LotFrontage  LotArea Street Alley LotShape  \\\n",
       "Id                                                                    \n",
       "1           60       RL         65.0     8450   Pave  None      Reg   \n",
       "2           20       RL         80.0     9600   Pave  None      Reg   \n",
       "3           60       RL         68.0    11250   Pave  None      IR1   \n",
       "4           70       RL         60.0     9550   Pave  None      IR1   \n",
       "5           60       RL         84.0    14260   Pave  None      IR1   \n",
       "\n",
       "   LandContour Utilities LotConfig  ... PoolArea PoolQC Fence MiscFeature  \\\n",
       "Id                                  ...                                     \n",
       "1          Lvl    AllPub    Inside  ...        0     NA    NA          NA   \n",
       "2          Lvl    AllPub       FR2  ...        0     NA    NA          NA   \n",
       "3          Lvl    AllPub    Inside  ...        0     NA    NA          NA   \n",
       "4          Lvl    AllPub    Corner  ...        0     NA    NA          NA   \n",
       "5          Lvl    AllPub       FR2  ...        0     NA    NA          NA   \n",
       "\n",
       "   MiscVal MoSold  YrSold  SaleType  SaleCondition  SalePrice  \n",
       "Id                                                             \n",
       "1        0      2    2008        WD         Normal   208500.0  \n",
       "2        0      5    2007        WD         Normal   181500.0  \n",
       "3        0      9    2008        WD         Normal   223500.0  \n",
       "4        0      2    2006        WD        Abnorml   140000.0  \n",
       "5        0     12    2008        WD         Normal   250000.0  \n",
       "\n",
       "[5 rows x 80 columns]"
      ]
     },
     "execution_count": 22,
     "metadata": {},
     "output_type": "execute_result"
    }
   ],
   "source": [
    "#16 columns remaining with null values\n",
    "#Each column has less than 5 null values\n",
    "\n",
    "#Remove all remaining rows with a null value, about 28 rows\n",
    "full_df = main_df.dropna()\n",
    "print(full_df.shape)\n",
    "full_df.head()"
   ]
  },
  {
   "cell_type": "markdown",
   "metadata": {},
   "source": [
    "### Converting categorical data to numerical data"
   ]
  },
  {
   "cell_type": "code",
   "execution_count": 23,
   "metadata": {},
   "outputs": [
    {
     "name": "stdout",
     "output_type": "stream",
     "text": [
      "name: MSZoning, dtype: object, unique_values: 5\n",
      "name: Street, dtype: object, unique_values: 2\n",
      "name: Alley, dtype: object, unique_values: 3\n",
      "name: LotShape, dtype: object, unique_values: 4\n",
      "name: LandContour, dtype: object, unique_values: 4\n",
      "name: Utilities, dtype: object, unique_values: 2\n",
      "name: LotConfig, dtype: object, unique_values: 5\n",
      "name: LandSlope, dtype: object, unique_values: 3\n",
      "name: Neighborhood, dtype: object, unique_values: 25\n",
      "name: Condition1, dtype: object, unique_values: 9\n",
      "name: Condition2, dtype: object, unique_values: 8\n",
      "name: BldgType, dtype: object, unique_values: 5\n",
      "name: HouseStyle, dtype: object, unique_values: 8\n",
      "name: RoofStyle, dtype: object, unique_values: 6\n",
      "name: RoofMatl, dtype: object, unique_values: 8\n",
      "name: Exterior1st, dtype: object, unique_values: 15\n",
      "name: Exterior2nd, dtype: object, unique_values: 16\n",
      "name: MasVnrType, dtype: object, unique_values: 4\n",
      "name: ExterQual, dtype: object, unique_values: 4\n",
      "name: ExterCond, dtype: object, unique_values: 5\n",
      "name: Foundation, dtype: object, unique_values: 6\n",
      "name: BsmtQual, dtype: object, unique_values: 5\n",
      "name: BsmtCond, dtype: object, unique_values: 5\n",
      "name: BsmtExposure, dtype: object, unique_values: 5\n",
      "name: BsmtFinType1, dtype: object, unique_values: 7\n",
      "name: BsmtFinType2, dtype: object, unique_values: 7\n",
      "name: Heating, dtype: object, unique_values: 6\n",
      "name: HeatingQC, dtype: object, unique_values: 5\n",
      "name: CentralAir, dtype: object, unique_values: 2\n",
      "name: Electrical, dtype: object, unique_values: 5\n",
      "name: KitchenQual, dtype: object, unique_values: 4\n",
      "name: Functional, dtype: object, unique_values: 7\n",
      "name: FireplaceQu, dtype: object, unique_values: 6\n",
      "name: GarageType, dtype: object, unique_values: 7\n",
      "name: GarageFinish, dtype: object, unique_values: 4\n",
      "name: GarageQual, dtype: object, unique_values: 6\n",
      "name: GarageCond, dtype: object, unique_values: 6\n",
      "name: PavedDrive, dtype: object, unique_values: 3\n",
      "name: PoolQC, dtype: object, unique_values: 4\n",
      "name: Fence, dtype: object, unique_values: 5\n",
      "name: MiscFeature, dtype: object, unique_values: 5\n",
      "name: SaleType, dtype: object, unique_values: 9\n",
      "name: SaleCondition, dtype: object, unique_values: 6\n",
      "Number Of Categorical Columns: 43/61\n"
     ]
    }
   ],
   "source": [
    "#check the number of unique values in each column\n",
    "#check the data type of each column\n",
    "#What is the total number of categorical columns?\n",
    "\n",
    "column_list = (full_df.columns).to_list()\n",
    "count = 0\n",
    "for i in column_list: \n",
    "     if full_df[i].dtype == \"object\":\n",
    "        print(f\"name: {full_df[i].name}, dtype: {full_df[i].dtype}, unique_values: {len(full_df[i].unique())}\")\n",
    "        count += 1\n",
    "\n",
    "print(f\"Number Of Categorical Columns: {count}/61\")"
   ]
  },
  {
   "cell_type": "code",
   "execution_count": 24,
   "metadata": {},
   "outputs": [
    {
     "data": {
      "text/plain": [
       "Other      1253\n",
       "NAmes       443\n",
       "CollgCr     267\n",
       "OldTown     239\n",
       "Edwards     192\n",
       "Somerst     182\n",
       "NridgHt     166\n",
       "Gilbert     164\n",
       "Name: Neighborhood, dtype: int64"
      ]
     },
     "execution_count": 24,
     "metadata": {},
     "output_type": "execute_result"
    }
   ],
   "source": [
    "#For columns that have more than 10 unique values, determine the number of data points for each unique value.   \n",
    "#convert rare categorical values into bin variable \"other\"\n",
    "#columns found: Neighborhood / Exterior1st / Exterior2nd\n",
    "\n",
    "neighbor_bin = ['IDOTRR', 'NoRidge', 'Timber', 'StoneBr', 'SWISU', 'ClearCr', 'MeadowV', 'BrDale', 'Blmngtn', 'Veenker', \n",
    "    'NPkVill', 'Blueste', 'Sawyer', 'Sawyer', 'NWAmes', 'SawyerW', 'Mitchel', 'BrkSide', 'Crawfor']\n",
    "\n",
    "for street in neighbor_bin:\n",
    "    full_df[\"Neighborhood\"] = full_df[\"Neighborhood\"].replace(street, \"Other\")\n",
    "\n",
    "full_df[\"Neighborhood\"].value_counts()"
   ]
  },
  {
   "cell_type": "code",
   "execution_count": 25,
   "metadata": {},
   "outputs": [
    {
     "data": {
      "text/plain": [
       "VinylSd    1024\n",
       "MetalSd     449\n",
       "HdBoard     442\n",
       "Wd Sdng     406\n",
       "Other       366\n",
       "Plywood     219\n",
       "Name: Exterior1st, dtype: int64"
      ]
     },
     "execution_count": 25,
     "metadata": {},
     "output_type": "execute_result"
    }
   ],
   "source": [
    "#Converted rare categorical values into bin variable named \"other\"\n",
    "\n",
    "bin = ['AsbShng', 'Stucco', 'BrkComm', 'AsphShn', 'Stone', 'ImStucc', 'CBlock', 'CemntBd', 'BrkFace', 'WdShing']\n",
    "\n",
    "for item in bin:\n",
    "    full_df[\"Exterior1st\"] = full_df[\"Exterior1st\"].replace(item, \"Other\")\n",
    "\n",
    "full_df[\"Exterior1st\"].value_counts()"
   ]
  },
  {
   "cell_type": "code",
   "execution_count": 26,
   "metadata": {},
   "outputs": [
    {
     "data": {
      "text/plain": [
       "VinylSd    1011\n",
       "MetalSd     447\n",
       "HdBoard     406\n",
       "Other       388\n",
       "Wd Sdng     387\n",
       "Plywood     267\n",
       "Name: Exterior2nd, dtype: int64"
      ]
     },
     "execution_count": 26,
     "metadata": {},
     "output_type": "execute_result"
    }
   ],
   "source": [
    "#Converted rare categorical values into bin variable named \"other\"\n",
    "\n",
    "bin = [\"Stucco\", \"BrkFace\", \"AsbShng\", \"Brk Cmn\", \"ImStucc\", \"Stone\", \"AsphShn\", \"CBlock\", 'CmentBd', 'Wd Shng']\n",
    "\n",
    "for name in bin:\n",
    "    full_df[\"Exterior2nd\"] = full_df[\"Exterior2nd\"].replace(name, \"Other\")\n",
    "\n",
    "full_df[\"Exterior2nd\"].value_counts()"
   ]
  },
  {
   "cell_type": "code",
   "execution_count": 27,
   "metadata": {},
   "outputs": [
    {
     "data": {
      "text/plain": [
       "RL       2259\n",
       "RM        457\n",
       "FV        139\n",
       "Other      51\n",
       "Name: MSZoning, dtype: int64"
      ]
     },
     "execution_count": 27,
     "metadata": {},
     "output_type": "execute_result"
    }
   ],
   "source": [
    "#Converted rare categorical values into bin variable named \"other\"\n",
    "\n",
    "bin = [\"RH\", \"C (all)\"]\n",
    "\n",
    "for name in bin:\n",
    "    full_df[\"MSZoning\"] = full_df[\"MSZoning\"].replace(name, \"Other\")\n",
    "\n",
    "full_df[\"MSZoning\"].value_counts()"
   ]
  },
  {
   "cell_type": "code",
   "execution_count": 28,
   "metadata": {},
   "outputs": [
    {
     "data": {
      "text/plain": [
       "Inside     2124\n",
       "Corner      509\n",
       "CulDSac     176\n",
       "Other        97\n",
       "Name: LotConfig, dtype: int64"
      ]
     },
     "execution_count": 28,
     "metadata": {},
     "output_type": "execute_result"
    }
   ],
   "source": [
    "#Converted rare categorical values into bin variable named \"other\"\n",
    "\n",
    "bin = [\"FR2\", \"FR3\"]\n",
    "\n",
    "for name in bin:\n",
    "    full_df[\"LotConfig\"] = full_df[\"LotConfig\"].replace(name, \"Other\")\n",
    "\n",
    "full_df['LotConfig'].value_counts()"
   ]
  },
  {
   "cell_type": "code",
   "execution_count": 29,
   "metadata": {},
   "outputs": [
    {
     "data": {
      "text/plain": [
       "Norm      2503\n",
       "Feedr      161\n",
       "Other      152\n",
       "Artery      90\n",
       "Name: Condition1, dtype: int64"
      ]
     },
     "execution_count": 29,
     "metadata": {},
     "output_type": "execute_result"
    }
   ],
   "source": [
    "#Converted rare categorical values into bin variable named \"other\"\n",
    "\n",
    "bin = ['RRAn', 'PosN', 'RRAe', 'PosA', 'RRNn', 'RRNe']\n",
    "\n",
    "for name in bin:\n",
    "    full_df[\"Condition1\"] = full_df[\"Condition1\"].replace(name, \"Other\")\n",
    "\n",
    "full_df['Condition1'].value_counts()"
   ]
  },
  {
   "cell_type": "code",
   "execution_count": 30,
   "metadata": {},
   "outputs": [
    {
     "data": {
      "text/plain": [
       "Norm     2876\n",
       "Other      30\n",
       "Name: Condition2, dtype: int64"
      ]
     },
     "execution_count": 30,
     "metadata": {},
     "output_type": "execute_result"
    }
   ],
   "source": [
    "#Converted rare categorical values into bin variable named \"other\"\n",
    "\n",
    "bin = ['RRAe', 'RRAn', 'RRNn', 'PosA', 'PosN', 'Artery', 'Feedr']\n",
    "\n",
    "for name in bin:\n",
    "    full_df[\"Condition2\"] = full_df[\"Condition2\"].replace(name, \"Other\")\n",
    "\n",
    "full_df['Condition2'].value_counts()"
   ]
  },
  {
   "cell_type": "code",
   "execution_count": 31,
   "metadata": {},
   "outputs": [
    {
     "data": {
      "text/plain": [
       "1Story    1463\n",
       "2Story     871\n",
       "1.5Fin     312\n",
       "Other      133\n",
       "SLvl       127\n",
       "Name: HouseStyle, dtype: int64"
      ]
     },
     "execution_count": 31,
     "metadata": {},
     "output_type": "execute_result"
    }
   ],
   "source": [
    "#Converted rare categorical values into bin variable named \"other\"\n",
    "\n",
    "bin = ['SFoyer', '2.5Unf', '1.5Unf', '2.5Fin']\n",
    "\n",
    "for name in bin:\n",
    "    full_df[\"HouseStyle\"] = full_df[\"HouseStyle\"].replace(name, \"Other\")\n",
    "\n",
    "full_df['HouseStyle'].value_counts()"
   ]
  },
  {
   "cell_type": "code",
   "execution_count": 32,
   "metadata": {},
   "outputs": [
    {
     "data": {
      "text/plain": [
       "1Story    1463\n",
       "2Story     871\n",
       "1.5Fin     312\n",
       "Other      133\n",
       "SLvl       127\n",
       "Name: HouseStyle, dtype: int64"
      ]
     },
     "execution_count": 32,
     "metadata": {},
     "output_type": "execute_result"
    }
   ],
   "source": [
    "#Converted rare categorical values into bin variable named \"other\"\n",
    "\n",
    "bin = ['SFoyer', '2.5Unf', '1.5Unf', '2.5Fin']\n",
    "\n",
    "for name in bin:\n",
    "    full_df[\"HouseStyle\"] = full_df[\"HouseStyle\"].replace(name, \"Other\")\n",
    "\n",
    "full_df['HouseStyle'].value_counts()"
   ]
  },
  {
   "cell_type": "code",
   "execution_count": 33,
   "metadata": {},
   "outputs": [
    {
     "data": {
      "text/plain": [
       "Gable    2300\n",
       "Hip       549\n",
       "Other      57\n",
       "Name: RoofStyle, dtype: int64"
      ]
     },
     "execution_count": 33,
     "metadata": {},
     "output_type": "execute_result"
    }
   ],
   "source": [
    "#Converted rare categorical values into bin variable named \"other\"\n",
    "\n",
    "bin = ['Gambrel', 'Flat', 'Mansard', 'Shed']\n",
    "\n",
    "for name in bin:\n",
    "    full_df[\"RoofStyle\"] = full_df[\"RoofStyle\"].replace(name, \"Other\")\n",
    "\n",
    "full_df['RoofStyle'].value_counts()"
   ]
  },
  {
   "cell_type": "code",
   "execution_count": 34,
   "metadata": {},
   "outputs": [
    {
     "data": {
      "text/plain": [
       "CompShg    2864\n",
       "Tar&Grv      22\n",
       "Other        20\n",
       "Name: RoofMatl, dtype: int64"
      ]
     },
     "execution_count": 34,
     "metadata": {},
     "output_type": "execute_result"
    }
   ],
   "source": [
    "#Converted rare categorical values into bin variable named \"other\"\n",
    "\n",
    "bin = ['WdShake', 'WdShngl', 'Metal', 'Membran', 'Roll', 'ClyTile']\n",
    "\n",
    "for name in bin:\n",
    "    full_df[\"RoofMatl\"] = full_df[\"RoofMatl\"].replace(name, \"Other\")\n",
    "\n",
    "full_df['RoofMatl'].value_counts()"
   ]
  },
  {
   "cell_type": "code",
   "execution_count": 35,
   "metadata": {},
   "outputs": [
    {
     "data": {
      "text/plain": [
       "Unf      2486\n",
       "Other     153\n",
       "Rec       105\n",
       "LwQ        87\n",
       "NA         75\n",
       "Name: BsmtFinType2, dtype: int64"
      ]
     },
     "execution_count": 35,
     "metadata": {},
     "output_type": "execute_result"
    }
   ],
   "source": [
    "#Converted rare categorical values into bin variable named \"other\"\n",
    "\n",
    "bin = ['BLQ', 'ALQ', 'GLQ']\n",
    "\n",
    "for name in bin:\n",
    "    full_df[\"BsmtFinType2\"] = full_df[\"BsmtFinType2\"].replace(name, \"Other\")\n",
    "\n",
    "full_df['BsmtFinType2'].value_counts()"
   ]
  },
  {
   "cell_type": "code",
   "execution_count": 36,
   "metadata": {},
   "outputs": [
    {
     "data": {
      "text/plain": [
       "Typ      2711\n",
       "Min2       69\n",
       "Min1       64\n",
       "Mod        33\n",
       "Other      29\n",
       "Name: Functional, dtype: int64"
      ]
     },
     "execution_count": 36,
     "metadata": {},
     "output_type": "execute_result"
    }
   ],
   "source": [
    "#Converted rare categorical values into bin variable named \"other\"\n",
    "\n",
    "bin = ['Sev', 'Maj2', 'Maj1']\n",
    "\n",
    "for name in bin:\n",
    "    full_df[\"Functional\"] = full_df[\"Functional\"].replace(name, \"Other\")\n",
    "\n",
    "full_df['Functional'].value_counts()"
   ]
  },
  {
   "cell_type": "code",
   "execution_count": 37,
   "metadata": {},
   "outputs": [
    {
     "data": {
      "text/html": [
       "<div>\n",
       "<style scoped>\n",
       "    .dataframe tbody tr th:only-of-type {\n",
       "        vertical-align: middle;\n",
       "    }\n",
       "\n",
       "    .dataframe tbody tr th {\n",
       "        vertical-align: top;\n",
       "    }\n",
       "\n",
       "    .dataframe thead th {\n",
       "        text-align: right;\n",
       "    }\n",
       "</style>\n",
       "<table border=\"1\" class=\"dataframe\">\n",
       "  <thead>\n",
       "    <tr style=\"text-align: right;\">\n",
       "      <th></th>\n",
       "      <th>MSSubClass</th>\n",
       "      <th>MSZoning</th>\n",
       "      <th>LotFrontage</th>\n",
       "      <th>LotArea</th>\n",
       "      <th>Street</th>\n",
       "      <th>Alley</th>\n",
       "      <th>LotShape</th>\n",
       "      <th>LandContour</th>\n",
       "      <th>Utilities</th>\n",
       "      <th>LotConfig</th>\n",
       "      <th>...</th>\n",
       "      <th>ScreenPorch</th>\n",
       "      <th>PoolArea</th>\n",
       "      <th>PoolQC</th>\n",
       "      <th>Fence</th>\n",
       "      <th>MiscFeature</th>\n",
       "      <th>MiscVal</th>\n",
       "      <th>MoSold</th>\n",
       "      <th>YrSold</th>\n",
       "      <th>SaleType</th>\n",
       "      <th>SaleCondition</th>\n",
       "    </tr>\n",
       "    <tr>\n",
       "      <th>Id</th>\n",
       "      <th></th>\n",
       "      <th></th>\n",
       "      <th></th>\n",
       "      <th></th>\n",
       "      <th></th>\n",
       "      <th></th>\n",
       "      <th></th>\n",
       "      <th></th>\n",
       "      <th></th>\n",
       "      <th></th>\n",
       "      <th></th>\n",
       "      <th></th>\n",
       "      <th></th>\n",
       "      <th></th>\n",
       "      <th></th>\n",
       "      <th></th>\n",
       "      <th></th>\n",
       "      <th></th>\n",
       "      <th></th>\n",
       "      <th></th>\n",
       "      <th></th>\n",
       "    </tr>\n",
       "  </thead>\n",
       "  <tbody>\n",
       "    <tr>\n",
       "      <th>1</th>\n",
       "      <td>60</td>\n",
       "      <td>RL</td>\n",
       "      <td>65.0</td>\n",
       "      <td>8450</td>\n",
       "      <td>Pave</td>\n",
       "      <td>None</td>\n",
       "      <td>Reg</td>\n",
       "      <td>Lvl</td>\n",
       "      <td>AllPub</td>\n",
       "      <td>Inside</td>\n",
       "      <td>...</td>\n",
       "      <td>0</td>\n",
       "      <td>0</td>\n",
       "      <td>NA</td>\n",
       "      <td>NA</td>\n",
       "      <td>NA</td>\n",
       "      <td>0</td>\n",
       "      <td>2</td>\n",
       "      <td>2008</td>\n",
       "      <td>WD</td>\n",
       "      <td>Normal</td>\n",
       "    </tr>\n",
       "    <tr>\n",
       "      <th>2</th>\n",
       "      <td>20</td>\n",
       "      <td>RL</td>\n",
       "      <td>80.0</td>\n",
       "      <td>9600</td>\n",
       "      <td>Pave</td>\n",
       "      <td>None</td>\n",
       "      <td>Reg</td>\n",
       "      <td>Lvl</td>\n",
       "      <td>AllPub</td>\n",
       "      <td>Other</td>\n",
       "      <td>...</td>\n",
       "      <td>0</td>\n",
       "      <td>0</td>\n",
       "      <td>NA</td>\n",
       "      <td>NA</td>\n",
       "      <td>NA</td>\n",
       "      <td>0</td>\n",
       "      <td>5</td>\n",
       "      <td>2007</td>\n",
       "      <td>WD</td>\n",
       "      <td>Normal</td>\n",
       "    </tr>\n",
       "    <tr>\n",
       "      <th>3</th>\n",
       "      <td>60</td>\n",
       "      <td>RL</td>\n",
       "      <td>68.0</td>\n",
       "      <td>11250</td>\n",
       "      <td>Pave</td>\n",
       "      <td>None</td>\n",
       "      <td>IR1</td>\n",
       "      <td>Lvl</td>\n",
       "      <td>AllPub</td>\n",
       "      <td>Inside</td>\n",
       "      <td>...</td>\n",
       "      <td>0</td>\n",
       "      <td>0</td>\n",
       "      <td>NA</td>\n",
       "      <td>NA</td>\n",
       "      <td>NA</td>\n",
       "      <td>0</td>\n",
       "      <td>9</td>\n",
       "      <td>2008</td>\n",
       "      <td>WD</td>\n",
       "      <td>Normal</td>\n",
       "    </tr>\n",
       "    <tr>\n",
       "      <th>4</th>\n",
       "      <td>70</td>\n",
       "      <td>RL</td>\n",
       "      <td>60.0</td>\n",
       "      <td>9550</td>\n",
       "      <td>Pave</td>\n",
       "      <td>None</td>\n",
       "      <td>IR1</td>\n",
       "      <td>Lvl</td>\n",
       "      <td>AllPub</td>\n",
       "      <td>Corner</td>\n",
       "      <td>...</td>\n",
       "      <td>0</td>\n",
       "      <td>0</td>\n",
       "      <td>NA</td>\n",
       "      <td>NA</td>\n",
       "      <td>NA</td>\n",
       "      <td>0</td>\n",
       "      <td>2</td>\n",
       "      <td>2006</td>\n",
       "      <td>WD</td>\n",
       "      <td>Abnorml</td>\n",
       "    </tr>\n",
       "    <tr>\n",
       "      <th>5</th>\n",
       "      <td>60</td>\n",
       "      <td>RL</td>\n",
       "      <td>84.0</td>\n",
       "      <td>14260</td>\n",
       "      <td>Pave</td>\n",
       "      <td>None</td>\n",
       "      <td>IR1</td>\n",
       "      <td>Lvl</td>\n",
       "      <td>AllPub</td>\n",
       "      <td>Other</td>\n",
       "      <td>...</td>\n",
       "      <td>0</td>\n",
       "      <td>0</td>\n",
       "      <td>NA</td>\n",
       "      <td>NA</td>\n",
       "      <td>NA</td>\n",
       "      <td>0</td>\n",
       "      <td>12</td>\n",
       "      <td>2008</td>\n",
       "      <td>WD</td>\n",
       "      <td>Normal</td>\n",
       "    </tr>\n",
       "  </tbody>\n",
       "</table>\n",
       "<p>5 rows × 79 columns</p>\n",
       "</div>"
      ],
      "text/plain": [
       "    MSSubClass MSZoning  LotFrontage  LotArea Street Alley LotShape  \\\n",
       "Id                                                                    \n",
       "1           60       RL         65.0     8450   Pave  None      Reg   \n",
       "2           20       RL         80.0     9600   Pave  None      Reg   \n",
       "3           60       RL         68.0    11250   Pave  None      IR1   \n",
       "4           70       RL         60.0     9550   Pave  None      IR1   \n",
       "5           60       RL         84.0    14260   Pave  None      IR1   \n",
       "\n",
       "   LandContour Utilities LotConfig  ... ScreenPorch PoolArea PoolQC Fence  \\\n",
       "Id                                  ...                                     \n",
       "1          Lvl    AllPub    Inside  ...           0        0     NA    NA   \n",
       "2          Lvl    AllPub     Other  ...           0        0     NA    NA   \n",
       "3          Lvl    AllPub    Inside  ...           0        0     NA    NA   \n",
       "4          Lvl    AllPub    Corner  ...           0        0     NA    NA   \n",
       "5          Lvl    AllPub     Other  ...           0        0     NA    NA   \n",
       "\n",
       "   MiscFeature MiscVal  MoSold  YrSold  SaleType  SaleCondition  \n",
       "Id                                                               \n",
       "1           NA       0       2    2008        WD         Normal  \n",
       "2           NA       0       5    2007        WD         Normal  \n",
       "3           NA       0       9    2008        WD         Normal  \n",
       "4           NA       0       2    2006        WD        Abnorml  \n",
       "5           NA       0      12    2008        WD         Normal  \n",
       "\n",
       "[5 rows x 79 columns]"
      ]
     },
     "execution_count": 37,
     "metadata": {},
     "output_type": "execute_result"
    }
   ],
   "source": [
    "#create X and Y variables for train and test split\n",
    "y = full_df[\"SalePrice\"].values\n",
    "x = full_df.drop(\"SalePrice\", axis=1)\n",
    "\n",
    "x.head()"
   ]
  },
  {
   "cell_type": "code",
   "execution_count": 38,
   "metadata": {},
   "outputs": [
    {
     "data": {
      "text/html": [
       "<div>\n",
       "<style scoped>\n",
       "    .dataframe tbody tr th:only-of-type {\n",
       "        vertical-align: middle;\n",
       "    }\n",
       "\n",
       "    .dataframe tbody tr th {\n",
       "        vertical-align: top;\n",
       "    }\n",
       "\n",
       "    .dataframe thead th {\n",
       "        text-align: right;\n",
       "    }\n",
       "</style>\n",
       "<table border=\"1\" class=\"dataframe\">\n",
       "  <thead>\n",
       "    <tr style=\"text-align: right;\">\n",
       "      <th></th>\n",
       "      <th>MSSubClass</th>\n",
       "      <th>LotFrontage</th>\n",
       "      <th>LotArea</th>\n",
       "      <th>OverallQual</th>\n",
       "      <th>OverallCond</th>\n",
       "      <th>YearBuilt</th>\n",
       "      <th>YearRemodAdd</th>\n",
       "      <th>MasVnrArea</th>\n",
       "      <th>BsmtFinSF1</th>\n",
       "      <th>BsmtFinSF2</th>\n",
       "      <th>...</th>\n",
       "      <th>SaleType_ConLw</th>\n",
       "      <th>SaleType_New</th>\n",
       "      <th>SaleType_Oth</th>\n",
       "      <th>SaleType_WD</th>\n",
       "      <th>SaleCondition_Abnorml</th>\n",
       "      <th>SaleCondition_AdjLand</th>\n",
       "      <th>SaleCondition_Alloca</th>\n",
       "      <th>SaleCondition_Family</th>\n",
       "      <th>SaleCondition_Normal</th>\n",
       "      <th>SaleCondition_Partial</th>\n",
       "    </tr>\n",
       "    <tr>\n",
       "      <th>Id</th>\n",
       "      <th></th>\n",
       "      <th></th>\n",
       "      <th></th>\n",
       "      <th></th>\n",
       "      <th></th>\n",
       "      <th></th>\n",
       "      <th></th>\n",
       "      <th></th>\n",
       "      <th></th>\n",
       "      <th></th>\n",
       "      <th></th>\n",
       "      <th></th>\n",
       "      <th></th>\n",
       "      <th></th>\n",
       "      <th></th>\n",
       "      <th></th>\n",
       "      <th></th>\n",
       "      <th></th>\n",
       "      <th></th>\n",
       "      <th></th>\n",
       "      <th></th>\n",
       "    </tr>\n",
       "  </thead>\n",
       "  <tbody>\n",
       "    <tr>\n",
       "      <th>1</th>\n",
       "      <td>60</td>\n",
       "      <td>65.0</td>\n",
       "      <td>8450</td>\n",
       "      <td>7</td>\n",
       "      <td>5</td>\n",
       "      <td>2003</td>\n",
       "      <td>2003</td>\n",
       "      <td>196.0</td>\n",
       "      <td>706.0</td>\n",
       "      <td>0.0</td>\n",
       "      <td>...</td>\n",
       "      <td>0</td>\n",
       "      <td>0</td>\n",
       "      <td>0</td>\n",
       "      <td>1</td>\n",
       "      <td>0</td>\n",
       "      <td>0</td>\n",
       "      <td>0</td>\n",
       "      <td>0</td>\n",
       "      <td>1</td>\n",
       "      <td>0</td>\n",
       "    </tr>\n",
       "    <tr>\n",
       "      <th>2</th>\n",
       "      <td>20</td>\n",
       "      <td>80.0</td>\n",
       "      <td>9600</td>\n",
       "      <td>6</td>\n",
       "      <td>8</td>\n",
       "      <td>1976</td>\n",
       "      <td>1976</td>\n",
       "      <td>0.0</td>\n",
       "      <td>978.0</td>\n",
       "      <td>0.0</td>\n",
       "      <td>...</td>\n",
       "      <td>0</td>\n",
       "      <td>0</td>\n",
       "      <td>0</td>\n",
       "      <td>1</td>\n",
       "      <td>0</td>\n",
       "      <td>0</td>\n",
       "      <td>0</td>\n",
       "      <td>0</td>\n",
       "      <td>1</td>\n",
       "      <td>0</td>\n",
       "    </tr>\n",
       "    <tr>\n",
       "      <th>3</th>\n",
       "      <td>60</td>\n",
       "      <td>68.0</td>\n",
       "      <td>11250</td>\n",
       "      <td>7</td>\n",
       "      <td>5</td>\n",
       "      <td>2001</td>\n",
       "      <td>2002</td>\n",
       "      <td>162.0</td>\n",
       "      <td>486.0</td>\n",
       "      <td>0.0</td>\n",
       "      <td>...</td>\n",
       "      <td>0</td>\n",
       "      <td>0</td>\n",
       "      <td>0</td>\n",
       "      <td>1</td>\n",
       "      <td>0</td>\n",
       "      <td>0</td>\n",
       "      <td>0</td>\n",
       "      <td>0</td>\n",
       "      <td>1</td>\n",
       "      <td>0</td>\n",
       "    </tr>\n",
       "    <tr>\n",
       "      <th>4</th>\n",
       "      <td>70</td>\n",
       "      <td>60.0</td>\n",
       "      <td>9550</td>\n",
       "      <td>7</td>\n",
       "      <td>5</td>\n",
       "      <td>1915</td>\n",
       "      <td>1970</td>\n",
       "      <td>0.0</td>\n",
       "      <td>216.0</td>\n",
       "      <td>0.0</td>\n",
       "      <td>...</td>\n",
       "      <td>0</td>\n",
       "      <td>0</td>\n",
       "      <td>0</td>\n",
       "      <td>1</td>\n",
       "      <td>1</td>\n",
       "      <td>0</td>\n",
       "      <td>0</td>\n",
       "      <td>0</td>\n",
       "      <td>0</td>\n",
       "      <td>0</td>\n",
       "    </tr>\n",
       "    <tr>\n",
       "      <th>5</th>\n",
       "      <td>60</td>\n",
       "      <td>84.0</td>\n",
       "      <td>14260</td>\n",
       "      <td>8</td>\n",
       "      <td>5</td>\n",
       "      <td>2000</td>\n",
       "      <td>2000</td>\n",
       "      <td>350.0</td>\n",
       "      <td>655.0</td>\n",
       "      <td>0.0</td>\n",
       "      <td>...</td>\n",
       "      <td>0</td>\n",
       "      <td>0</td>\n",
       "      <td>0</td>\n",
       "      <td>1</td>\n",
       "      <td>0</td>\n",
       "      <td>0</td>\n",
       "      <td>0</td>\n",
       "      <td>0</td>\n",
       "      <td>1</td>\n",
       "      <td>0</td>\n",
       "    </tr>\n",
       "  </tbody>\n",
       "</table>\n",
       "<p>5 rows × 238 columns</p>\n",
       "</div>"
      ],
      "text/plain": [
       "    MSSubClass  LotFrontage  LotArea  OverallQual  OverallCond  YearBuilt  \\\n",
       "Id                                                                          \n",
       "1           60         65.0     8450            7            5       2003   \n",
       "2           20         80.0     9600            6            8       1976   \n",
       "3           60         68.0    11250            7            5       2001   \n",
       "4           70         60.0     9550            7            5       1915   \n",
       "5           60         84.0    14260            8            5       2000   \n",
       "\n",
       "    YearRemodAdd  MasVnrArea  BsmtFinSF1  BsmtFinSF2  ...  SaleType_ConLw  \\\n",
       "Id                                                    ...                   \n",
       "1           2003       196.0       706.0         0.0  ...               0   \n",
       "2           1976         0.0       978.0         0.0  ...               0   \n",
       "3           2002       162.0       486.0         0.0  ...               0   \n",
       "4           1970         0.0       216.0         0.0  ...               0   \n",
       "5           2000       350.0       655.0         0.0  ...               0   \n",
       "\n",
       "    SaleType_New  SaleType_Oth  SaleType_WD  SaleCondition_Abnorml  \\\n",
       "Id                                                                   \n",
       "1              0             0            1                      0   \n",
       "2              0             0            1                      0   \n",
       "3              0             0            1                      0   \n",
       "4              0             0            1                      1   \n",
       "5              0             0            1                      0   \n",
       "\n",
       "    SaleCondition_AdjLand  SaleCondition_Alloca  SaleCondition_Family  \\\n",
       "Id                                                                      \n",
       "1                       0                     0                     0   \n",
       "2                       0                     0                     0   \n",
       "3                       0                     0                     0   \n",
       "4                       0                     0                     0   \n",
       "5                       0                     0                     0   \n",
       "\n",
       "    SaleCondition_Normal  SaleCondition_Partial  \n",
       "Id                                               \n",
       "1                      1                      0  \n",
       "2                      1                      0  \n",
       "3                      1                      0  \n",
       "4                      0                      0  \n",
       "5                      1                      0  \n",
       "\n",
       "[5 rows x 238 columns]"
      ]
     },
     "execution_count": 38,
     "metadata": {},
     "output_type": "execute_result"
    }
   ],
   "source": [
    "#use get_dummies to convert categorical variables into indicator variables\n",
    "X = pd.get_dummies(x)\n",
    "X.head()"
   ]
  },
  {
   "cell_type": "code",
   "execution_count": 39,
   "metadata": {},
   "outputs": [],
   "source": [
    "#create train and test spilts for model\n",
    "X_train, X_test, y_train, y_test = train_test_split(X, y, random_state=42)\n",
    "\n",
    "#create and train scaler instance\n",
    "scaler = StandardScaler().fit(X_train)\n",
    "\n",
    "#transform X dataset with scaler\n",
    "X_train_scaled = scaler.transform(X_train)\n",
    "X_test_scaled = scaler.transform(X_test)"
   ]
  },
  {
   "cell_type": "markdown",
   "metadata": {},
   "source": [
    "## ML Model Implementation"
   ]
  },
  {
   "cell_type": "code",
   "execution_count": 40,
   "metadata": {},
   "outputs": [
    {
     "name": "stdout",
     "output_type": "stream",
     "text": [
      "Training Score: 0.9209174293161273\n",
      "Test Score: 0.5146897816304703\n"
     ]
    }
   ],
   "source": [
    "#Create and train a Decision Tree Classifer model\n",
    "rfr_first = RandomForestRegressor(n_estimators=100, random_state=0).fit(X_train_scaled, y_train)\n",
    "\n",
    "#Check performance\n",
    "print(f'Training Score: {rfr_first.score(X_train_scaled, y_train)}')\n",
    "print(f'Test Score: {rfr_first.score(X_test_scaled, y_test)}')"
   ]
  },
  {
   "cell_type": "code",
   "execution_count": 41,
   "metadata": {},
   "outputs": [],
   "source": [
    "feature_importances = rfr_first.feature_importances_"
   ]
  },
  {
   "cell_type": "code",
   "execution_count": null,
   "metadata": {},
   "outputs": [],
   "source": [
    "features = sorted(zip(X.columns, rfr_first.feature_importances_), key = lambda x: x[1])\n",
    "cols = [f[0] for f in features]\n",
    "width = [f[1] for f in features]\n",
    "\n",
    "fig, ax = plt.subplots()\n",
    "\n",
    "fig.set_size_inches(10,200)\n",
    "plt.margins(y=0.001)\n",
    "\n",
    "ax.barh(y=cols, width=width)\n",
    "\n",
    "plt.show()"
   ]
  },
  {
   "cell_type": "code",
   "execution_count": 37,
   "metadata": {},
   "outputs": [
    {
     "data": {
      "text/html": [
       "<style>#sk-container-id-1 {color: black;background-color: white;}#sk-container-id-1 pre{padding: 0;}#sk-container-id-1 div.sk-toggleable {background-color: white;}#sk-container-id-1 label.sk-toggleable__label {cursor: pointer;display: block;width: 100%;margin-bottom: 0;padding: 0.3em;box-sizing: border-box;text-align: center;}#sk-container-id-1 label.sk-toggleable__label-arrow:before {content: \"▸\";float: left;margin-right: 0.25em;color: #696969;}#sk-container-id-1 label.sk-toggleable__label-arrow:hover:before {color: black;}#sk-container-id-1 div.sk-estimator:hover label.sk-toggleable__label-arrow:before {color: black;}#sk-container-id-1 div.sk-toggleable__content {max-height: 0;max-width: 0;overflow: hidden;text-align: left;background-color: #f0f8ff;}#sk-container-id-1 div.sk-toggleable__content pre {margin: 0.2em;color: black;border-radius: 0.25em;background-color: #f0f8ff;}#sk-container-id-1 input.sk-toggleable__control:checked~div.sk-toggleable__content {max-height: 200px;max-width: 100%;overflow: auto;}#sk-container-id-1 input.sk-toggleable__control:checked~label.sk-toggleable__label-arrow:before {content: \"▾\";}#sk-container-id-1 div.sk-estimator input.sk-toggleable__control:checked~label.sk-toggleable__label {background-color: #d4ebff;}#sk-container-id-1 div.sk-label input.sk-toggleable__control:checked~label.sk-toggleable__label {background-color: #d4ebff;}#sk-container-id-1 input.sk-hidden--visually {border: 0;clip: rect(1px 1px 1px 1px);clip: rect(1px, 1px, 1px, 1px);height: 1px;margin: -1px;overflow: hidden;padding: 0;position: absolute;width: 1px;}#sk-container-id-1 div.sk-estimator {font-family: monospace;background-color: #f0f8ff;border: 1px dotted black;border-radius: 0.25em;box-sizing: border-box;margin-bottom: 0.5em;}#sk-container-id-1 div.sk-estimator:hover {background-color: #d4ebff;}#sk-container-id-1 div.sk-parallel-item::after {content: \"\";width: 100%;border-bottom: 1px solid gray;flex-grow: 1;}#sk-container-id-1 div.sk-label:hover label.sk-toggleable__label {background-color: #d4ebff;}#sk-container-id-1 div.sk-serial::before {content: \"\";position: absolute;border-left: 1px solid gray;box-sizing: border-box;top: 0;bottom: 0;left: 50%;z-index: 0;}#sk-container-id-1 div.sk-serial {display: flex;flex-direction: column;align-items: center;background-color: white;padding-right: 0.2em;padding-left: 0.2em;position: relative;}#sk-container-id-1 div.sk-item {position: relative;z-index: 1;}#sk-container-id-1 div.sk-parallel {display: flex;align-items: stretch;justify-content: center;background-color: white;position: relative;}#sk-container-id-1 div.sk-item::before, #sk-container-id-1 div.sk-parallel-item::before {content: \"\";position: absolute;border-left: 1px solid gray;box-sizing: border-box;top: 0;bottom: 0;left: 50%;z-index: -1;}#sk-container-id-1 div.sk-parallel-item {display: flex;flex-direction: column;z-index: 1;position: relative;background-color: white;}#sk-container-id-1 div.sk-parallel-item:first-child::after {align-self: flex-end;width: 50%;}#sk-container-id-1 div.sk-parallel-item:last-child::after {align-self: flex-start;width: 50%;}#sk-container-id-1 div.sk-parallel-item:only-child::after {width: 0;}#sk-container-id-1 div.sk-dashed-wrapped {border: 1px dashed gray;margin: 0 0.4em 0.5em 0.4em;box-sizing: border-box;padding-bottom: 0.4em;background-color: white;}#sk-container-id-1 div.sk-label label {font-family: monospace;font-weight: bold;display: inline-block;line-height: 1.2em;}#sk-container-id-1 div.sk-label-container {text-align: center;}#sk-container-id-1 div.sk-container {/* jupyter's `normalize.less` sets `[hidden] { display: none; }` but bootstrap.min.css set `[hidden] { display: none !important; }` so we also need the `!important` here to be able to override the default hidden behavior on the sphinx rendered scikit-learn.org. See: https://github.com/scikit-learn/scikit-learn/issues/21755 */display: inline-block !important;position: relative;}#sk-container-id-1 div.sk-text-repr-fallback {display: none;}</style><div id=\"sk-container-id-1\" class=\"sk-top-container\"><div class=\"sk-text-repr-fallback\"><pre>SelectFromModel(estimator=RandomForestRegressor(random_state=0))</pre><b>In a Jupyter environment, please rerun this cell to show the HTML representation or trust the notebook. <br />On GitHub, the HTML representation is unable to render, please try loading this page with nbviewer.org.</b></div><div class=\"sk-container\" hidden><div class=\"sk-item sk-dashed-wrapped\"><div class=\"sk-label-container\"><div class=\"sk-label sk-toggleable\"><input class=\"sk-toggleable__control sk-hidden--visually\" id=\"sk-estimator-id-1\" type=\"checkbox\" ><label for=\"sk-estimator-id-1\" class=\"sk-toggleable__label sk-toggleable__label-arrow\">SelectFromModel</label><div class=\"sk-toggleable__content\"><pre>SelectFromModel(estimator=RandomForestRegressor(random_state=0))</pre></div></div></div><div class=\"sk-parallel\"><div class=\"sk-parallel-item\"><div class=\"sk-item\"><div class=\"sk-label-container\"><div class=\"sk-label sk-toggleable\"><input class=\"sk-toggleable__control sk-hidden--visually\" id=\"sk-estimator-id-2\" type=\"checkbox\" ><label for=\"sk-estimator-id-2\" class=\"sk-toggleable__label sk-toggleable__label-arrow\">estimator: RandomForestRegressor</label><div class=\"sk-toggleable__content\"><pre>RandomForestRegressor(random_state=0)</pre></div></div></div><div class=\"sk-serial\"><div class=\"sk-item\"><div class=\"sk-estimator sk-toggleable\"><input class=\"sk-toggleable__control sk-hidden--visually\" id=\"sk-estimator-id-3\" type=\"checkbox\" ><label for=\"sk-estimator-id-3\" class=\"sk-toggleable__label sk-toggleable__label-arrow\">RandomForestRegressor</label><div class=\"sk-toggleable__content\"><pre>RandomForestRegressor(random_state=0)</pre></div></div></div></div></div></div></div></div></div></div>"
      ],
      "text/plain": [
       "SelectFromModel(estimator=RandomForestRegressor(random_state=0))"
      ]
     },
     "execution_count": 37,
     "metadata": {},
     "output_type": "execute_result"
    }
   ],
   "source": [
    "from sklearn.feature_selection import SelectFromModel\n",
    "sel = SelectFromModel(rfr_first)\n",
    "sel.fit(X_train_scaled, y_train)"
   ]
  },
  {
   "cell_type": "code",
   "execution_count": 38,
   "metadata": {},
   "outputs": [
    {
     "name": "stderr",
     "output_type": "stream",
     "text": [
      "/Users/Jerry/opt/anaconda3/lib/python3.9/site-packages/sklearn/base.py:443: UserWarning: X has feature names, but SelectFromModel was fitted without feature names\n",
      "  warnings.warn(\n"
     ]
    }
   ],
   "source": [
    "sel_X = sel.transform(X)\n",
    "\n",
    "x_selected_train, x_selected_test, y_train, y_test = train_test_split(sel_X, y, random_state=1)\n",
    "scaler = StandardScaler().fit(x_selected_train, y_train)\n",
    "x_selected_train_scaled = scaler.transform(x_selected_train)\n",
    "x_selected_test_scaled = scaler.transform(x_selected_test)"
   ]
  },
  {
   "cell_type": "code",
   "execution_count": 39,
   "metadata": {},
   "outputs": [
    {
     "name": "stdout",
     "output_type": "stream",
     "text": [
      "Training Score: 0.9274026055977839\n",
      "Testing Score: 0.4719268305308967\n"
     ]
    }
   ],
   "source": [
    "rfr_final = RandomForestRegressor(n_estimators=200, random_state=0).fit(x_selected_train_scaled, y_train)\n",
    "print(f'Training Score: {rfr_final.score(x_selected_train_scaled, y_train)}')\n",
    "print(f'Testing Score: {rfr_final.score(x_selected_test_scaled, y_test)}')"
   ]
  },
  {
   "cell_type": "code",
   "execution_count": 40,
   "metadata": {},
   "outputs": [
    {
     "name": "stdout",
     "output_type": "stream",
     "text": [
      "Training Score: 0.4618020632842791\n",
      "Testing Score: 0.5042743773402139\n"
     ]
    }
   ],
   "source": [
    "from sklearn.linear_model import LinearRegression\n",
    "lr = LinearRegression()\n",
    "lr.fit(x_selected_train_scaled, y_train)\n",
    "print(f'Training Score: {lr.score(x_selected_train_scaled, y_train)}')\n",
    "print(f'Testing Score: {lr.score(x_selected_test_scaled, y_test)}')"
   ]
  },
  {
   "cell_type": "code",
   "execution_count": 41,
   "metadata": {},
   "outputs": [
    {
     "name": "stdout",
     "output_type": "stream",
     "text": [
      "Training Score: 0.46180204448226747\n",
      "Testing Score: 0.5042945421103557\n",
      "Model: LASSO\n"
     ]
    },
    {
     "data": {
      "image/png": "[encoded data removed]",
      "text/plain": [
       "<Figure size 432x288 with 1 Axes>"
      ]
     },
     "metadata": {
      "needs_background": "light"
     },
     "output_type": "display_data"
    }
   ],
   "source": [
    "from sklearn.linear_model import Lasso\n",
    "reg = Lasso(max_iter=2000).fit(x_selected_train_scaled, y_train)  \n",
    "print(f'Training Score: {reg.score(x_selected_train_scaled, y_train)}')\n",
    "print(f'Testing Score: {reg.score(x_selected_test_scaled, y_test)}')\n",
    "print('Model: LASSO')\n",
    "plt.bar(np.arange(len(reg.coef_)), reg.coef_)\n",
    "plt.title(f'LASSO coefficient plot')\n",
    "plt.show()  "
   ]
  },
  {
   "cell_type": "code",
   "execution_count": 44,
   "metadata": {},
   "outputs": [
    {
     "name": "stdout",
     "output_type": "stream",
     "text": [
      "Training Score: 0.46180136764128976\n",
      "Test Score: 0.5043150497789244\n"
     ]
    }
   ],
   "source": [
    "from sklearn.linear_model import Ridge\n",
    "ridge_model = Ridge(max_iter=2000).fit(x_selected_train_scaled, y_train)\n",
    "print(f'Training Score: {ridge_model.score(x_selected_train_scaled, y_train)}')\n",
    "print(f'Test Score: {ridge_model.score(x_selected_test_scaled, y_test)}')"
   ]
  },
  {
   "cell_type": "code",
   "execution_count": 45,
   "metadata": {},
   "outputs": [
    {
     "name": "stdout",
     "output_type": "stream",
     "text": [
      "Training Score: 0.45114483374642567\n",
      "Test Score: 0.5003488712721308\n"
     ]
    }
   ],
   "source": [
    "from sklearn.linear_model import ElasticNet\n",
    "elastic_model = ElasticNet(max_iter=2000).fit(x_selected_train_scaled, y_train)\n",
    "print(f'Training Score: {elastic_model.score(x_selected_train_scaled, y_train)}')\n",
    "print(f'Test Score: {elastic_model.score(x_selected_test_scaled, y_test)}')"
   ]
  },
  {
   "cell_type": "markdown",
   "metadata": {},
   "source": [
    "## Next steps\n",
    "### Optimize Random Forest Regressor"
   ]
  },
  {
   "cell_type": "markdown",
   "metadata": {},
   "source": [
    "Checking for target variable normality."
   ]
  },
  {
   "cell_type": "code",
   "execution_count": 78,
   "metadata": {},
   "outputs": [
    {
     "data": {
      "image/png": "[encoded data removed]",
      "text/plain": [
       "<Figure size 432x288 with 1 Axes>"
      ]
     },
     "metadata": {
      "needs_background": "light"
     },
     "output_type": "display_data"
    },
    {
     "data": {
      "image/png": "[encoded data removed]",
      "text/plain": [
       "<Figure size 432x288 with 1 Axes>"
      ]
     },
     "metadata": {
      "needs_background": "light"
     },
     "output_type": "display_data"
    }
   ],
   "source": [
    "from scipy.stats import norm\n",
    "import seaborn as sns\n",
    "from scipy import stats\n",
    "\n",
    "sns.distplot(y_train, fit=norm)\n",
    "fig = plt.figure()\n",
    "res = stats.probplot(y_train, plot = plt)"
   ]
  },
  {
   "cell_type": "code",
   "execution_count": 76,
   "metadata": {},
   "outputs": [
    {
     "data": {
      "image/png": "[encoded data removed]",
      "text/plain": [
       "<Figure size 432x288 with 1 Axes>"
      ]
     },
     "metadata": {
      "needs_background": "light"
     },
     "output_type": "display_data"
    },
    {
     "data": {
      "image/png": "[encoded data removed]",
      "text/plain": [
       "<Figure size 432x288 with 1 Axes>"
      ]
     },
     "metadata": {
      "needs_background": "light"
     },
     "output_type": "display_data"
    }
   ],
   "source": [
    "#enforcing normality through a transformation, in hopes of developing an accurate regression model\n",
    "import numpy as np\n",
    "y_train = np.log(y_train)\n",
    "sns.distplot(y_train, fit=norm)\n",
    "fig = plt.figure()\n",
    "res = stats.probplot(y_train, plot=plt)"
   ]
  },
  {
   "cell_type": "code",
   "execution_count": 64,
   "metadata": {},
   "outputs": [
    {
     "data": {
      "text/plain": [
       "[('1stFlrSF', 0.026752547889879665),\n",
       " ('BsmtUnfSF', 0.028316097774449985),\n",
       " ('TotRmsAbvGrd', 0.029196209066689228),\n",
       " ('2ndFlrSF', 0.03097430775872031),\n",
       " ('BsmtFinSF1', 0.03714251075254735),\n",
       " ('GarageArea', 0.03949747407849239),\n",
       " ('TotalBsmtSF', 0.04638295691019893),\n",
       " ('LotArea', 0.046664916562260766),\n",
       " ('GrLivArea', 0.17430866950393195),\n",
       " ('OverallQual', 0.1920836798847199)]"
      ]
     },
     "execution_count": 64,
     "metadata": {},
     "output_type": "execute_result"
    }
   ],
   "source": [
    "features[-10:]"
   ]
  },
  {
   "cell_type": "code",
   "execution_count": 72,
   "metadata": {},
   "outputs": [],
   "source": [
    "#top 10 features based off feature_importance_ from initial forest regression\n",
    "included_features = [\"OverallQual\",\"GrLivArea\",\"LotArea\",\"TotalBsmtSF\",\"GarageArea\",\"BsmtFinSF1\",\"2ndFlrSF\",\"TotRmsAbvGrd\", \n",
    "                    \"BsmtUnfSF\", \"1stFlrSF\"] \n",
    "\n",
    "#define x and y training data with only top 10 features\n",
    "x_ten = X_train[included_features]\n",
    "\n",
    "#define x test data with only top 10 features\n",
    "x_test_ten = X_test[included_features]"
   ]
  },
  {
   "cell_type": "code",
   "execution_count": 73,
   "metadata": {},
   "outputs": [],
   "source": [
    "#create and train scaler instance\n",
    "ss = StandardScaler().fit(x_ten)\n",
    "\n",
    "x_ten_scaled = ss.transform(x_ten)\n",
    "x_test_ten_scaled = ss.transform(x_test_ten)"
   ]
  },
  {
   "cell_type": "code",
   "execution_count": 79,
   "metadata": {},
   "outputs": [
    {
     "name": "stdout",
     "output_type": "stream",
     "text": [
      "estimators 50\n",
      "Est. Explained Variance 0.42926184234471804\n",
      "\n",
      "estimators 60\n",
      "Est. Explained Variance 0.430923318272617\n",
      "\n",
      "estimators 70\n",
      "Est. Explained Variance 0.4364166483029307\n",
      "\n",
      "estimators 80\n",
      "Est. Explained Variance 0.4324618864470799\n",
      "\n",
      "estimators 90\n",
      "Est. Explained Variance 0.4357866374471394\n",
      "\n",
      "estimators 100\n",
      "Est. Explained Variance 0.4312766810198677\n",
      "\n"
     ]
    }
   ],
   "source": [
    "#number of estimators to consider\n",
    "from sklearn.model_selection import cross_val_score\n",
    "\n",
    "\n",
    "estimators = [50, 60, 70, 80, 90, 100]\n",
    "#array to hold mean of random forest regressions\n",
    "mean_rfrs = []\n",
    "\n",
    "yt = [i for i in y_train]\n",
    "\n",
    "for i in estimators:\n",
    "    model = RandomForestRegressor(n_estimators=i, max_depth=None)\n",
    "    scores_rfr = cross_val_score(model, x_ten_scaled, yt, cv=10, scoring=\"explained_variance\")\n",
    "    print(f'estimators {i}')\n",
    "    print(f'Est. Explained Variance {scores_rfr.mean()}')\n",
    "    print(\"\")\n",
    "\n",
    "    mean_rfrs.append(scores_rfr.mean())"
   ]
  },
  {
   "cell_type": "code",
   "execution_count": null,
   "metadata": {},
   "outputs": [],
   "source": [
    "#Next Test\n",
    "#Top 20 Features"
   ]
  },
  {
   "cell_type": "code",
   "execution_count": 80,
   "metadata": {},
   "outputs": [
    {
     "data": {
      "text/plain": [
       "[('YrSold', 0.00894710385607614),\n",
       " ('GarageCars', 0.012066048444335526),\n",
       " ('YearBuilt', 0.015120841816202062),\n",
       " ('OpenPorchSF', 0.016630673529620225),\n",
       " ('MoSold', 0.017076072371243884),\n",
       " ('YearRemodAdd', 0.018443242804518263),\n",
       " ('LotFrontage', 0.018721172907158582),\n",
       " ('MasVnrArea', 0.01897505917821738),\n",
       " ('WoodDeckSF', 0.02080666847456982),\n",
       " ('GarageYrBlt', 0.02135574181005817),\n",
       " ('1stFlrSF', 0.026752547889879665),\n",
       " ('BsmtUnfSF', 0.028316097774449985),\n",
       " ('TotRmsAbvGrd', 0.029196209066689228),\n",
       " ('2ndFlrSF', 0.03097430775872031),\n",
       " ('BsmtFinSF1', 0.03714251075254735),\n",
       " ('GarageArea', 0.03949747407849239),\n",
       " ('TotalBsmtSF', 0.04638295691019893),\n",
       " ('LotArea', 0.046664916562260766),\n",
       " ('GrLivArea', 0.17430866950393195),\n",
       " ('OverallQual', 0.1920836798847199)]"
      ]
     },
     "execution_count": 80,
     "metadata": {},
     "output_type": "execute_result"
    }
   ],
   "source": [
    "features[-20:]"
   ]
  },
  {
   "cell_type": "code",
   "execution_count": 81,
   "metadata": {},
   "outputs": [],
   "source": [
    "#top 10 features based off feature_importance_ from initial forest regression\n",
    "included_features = [\"OverallQual\",\"GrLivArea\",\"LotArea\",\"TotalBsmtSF\",\"GarageArea\",\"BsmtFinSF1\",\"2ndFlrSF\",\"TotRmsAbvGrd\", \n",
    "                    \"BsmtUnfSF\", \"1stFlrSF\", \"GarageYrBlt\", \"WoodDeckSF\", \"MasVnrArea\", \"LotFrontage\", \"YearRemodAdd\", \n",
    "                    \"MoSold\", \"OpenPorchSF\", \"YearBuilt\", \"GarageCars\", \"YrSold\"]\n",
    "\n",
    "#define x and y training data with only top 10 features\n",
    "x_twenty = X_train[included_features]\n",
    "\n",
    "#define x test data with only top 10 features\n",
    "x_test_twenty = X_test[included_features]"
   ]
  },
  {
   "cell_type": "code",
   "execution_count": 82,
   "metadata": {},
   "outputs": [],
   "source": [
    "#create and train scaler instance\n",
    "ss2 = StandardScaler().fit(x_twenty)\n",
    "\n",
    "x_twenty_scaled = ss2.transform(x_twenty)\n",
    "x_test_twenty_scaled = ss2.transform(x_test_twenty)"
   ]
  },
  {
   "cell_type": "code",
   "execution_count": 83,
   "metadata": {},
   "outputs": [
    {
     "name": "stdout",
     "output_type": "stream",
     "text": [
      "estimators 50\n",
      "Est. Explained Variance 0.45051956302205676\n",
      "\n",
      "estimators 60\n",
      "Est. Explained Variance 0.45288780148967434\n",
      "\n",
      "estimators 70\n",
      "Est. Explained Variance 0.4570489843274764\n",
      "\n",
      "estimators 80\n",
      "Est. Explained Variance 0.45296471269239547\n",
      "\n",
      "estimators 90\n",
      "Est. Explained Variance 0.45293876964967233\n",
      "\n",
      "estimators 100\n",
      "Est. Explained Variance 0.45143391002161265\n",
      "\n"
     ]
    }
   ],
   "source": [
    "#number of estimators to consider\n",
    "from sklearn.model_selection import cross_val_score\n",
    "\n",
    "\n",
    "estimators = [50, 60, 70, 80, 90, 100]\n",
    "#array to hold mean of random forest regressions\n",
    "mean_rfrs_2 = []\n",
    "\n",
    "yt = [i for i in y_train]\n",
    "\n",
    "for i in estimators:\n",
    "    model = RandomForestRegressor(n_estimators=i, max_depth=None)\n",
    "    scores_rfr = cross_val_score(model, x_twenty_scaled, yt, cv=10, scoring=\"explained_variance\")\n",
    "    print(f'estimators {i}')\n",
    "    print(f'Est. Explained Variance {scores_rfr.mean()}')\n",
    "    print(\"\")\n",
    "\n",
    "    mean_rfrs_2.append(scores_rfr.mean())"
   ]
  },
  {
   "cell_type": "code",
   "execution_count": null,
   "metadata": {},
   "outputs": [],
   "source": []
  }
 ],
 "metadata": {
  "interpreter": {
   "hash": "20cd98c28d8a7d9436c71f6a69b27a52ac9cc752c9aeb4b7097ad5f9ce130e0f"
  },
  "kernelspec": {
   "display_name": "Python 3.9.7 ('base')",
   "language": "python",
   "name": "python3"
  },
  "language_info": {
   "codemirror_mode": {
    "name": "ipython",
    "version": 3
   },
   "file_extension": ".py",
   "mimetype": "text/x-python",
   "name": "python",
   "nbconvert_exporter": "python",
   "pygments_lexer": "ipython3",
   "version": "3.9.7"
  },
  "orig_nbformat": 4
 },
 "nbformat": 4,
 "nbformat_minor": 2
}
